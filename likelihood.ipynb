{
  "nbformat": 4,
  "nbformat_minor": 0,
  "metadata": {
    "kernelspec": {
      "display_name": "Python 3",
      "language": "python",
      "name": "python3"
    },
    "language_info": {
      "codemirror_mode": {
        "name": "ipython",
        "version": 3
      },
      "file_extension": ".py",
      "mimetype": "text/x-python",
      "name": "python",
      "nbconvert_exporter": "python",
      "pygments_lexer": "ipython3",
      "version": "3.9.2"
    },
    "colab": {
      "name": "Копия блокнота \"likelihood.ipynb\"",
      "provenance": [],
      "collapsed_sections": [
        "KvmDJL224jAH",
        "RFQxGDzr4jAO"
      ],
      "include_colab_link": true
    },
    "accelerator": "GPU"
  },
  "cells": [
    {
      "cell_type": "markdown",
      "metadata": {
        "id": "view-in-github",
        "colab_type": "text"
      },
      "source": [
        "<a href=\"https://colab.research.google.com/github/PetrovAlexey/GenerativeModels/blob/main/likelihood.ipynb\" target=\"_parent\"><img src=\"https://colab.research.google.com/assets/colab-badge.svg\" alt=\"Open In Colab\"/></a>"
      ]
    },
    {
      "cell_type": "markdown",
      "metadata": {
        "id": "slcvDNmQ4i_l"
      },
      "source": [
        "# Likelihood-based models\n",
        "\n",
        "This seminar will be about likelihood-based models: autoregressive and flow-based. Seminar consists of 3 parts:\n",
        "- Likelihood model in 1D - fitting histogram using SGD\n",
        "- Deep Autoregressive model in 2D\n",
        "- Detaled study of Real NVP model in 2D "
      ]
    },
    {
      "cell_type": "markdown",
      "metadata": {
        "id": "MeNm0yBQ4i_u"
      },
      "source": [
        "# Part 1. 1D warmup"
      ]
    },
    {
      "cell_type": "markdown",
      "metadata": {
        "id": "uIBjTAeq4i_v"
      },
      "source": [
        "In this part we will build our first likelihood-based model for 1D data and will try to fit it using gradient methods."
      ]
    },
    {
      "cell_type": "code",
      "metadata": {
        "id": "fX4mKjFd4i_v"
      },
      "source": [
        "%matplotlib inline"
      ],
      "execution_count": 2,
      "outputs": []
    },
    {
      "cell_type": "code",
      "metadata": {
        "id": "Z4JdTTTU4i_w"
      },
      "source": [
        "import numpy as np\n",
        "import matplotlib.pyplot as plt\n",
        "from collections import Counter\n",
        "import torch\n",
        "from torch import nn\n",
        "from torch import optim\n",
        "from torch.nn import functional as F\n",
        "import torch.utils.data\n",
        "import math\n",
        "from sklearn.model_selection import train_test_split\n",
        "import random"
      ],
      "execution_count": 3,
      "outputs": []
    },
    {
      "cell_type": "markdown",
      "metadata": {
        "id": "yRXDkUK94i_x"
      },
      "source": [
        "Choose your device: don't forget to switch to GPU runtime when working in collab with cuda."
      ]
    },
    {
      "cell_type": "code",
      "metadata": {
        "id": "cEKi4vuP4i_y"
      },
      "source": [
        "device = 'cuda'"
      ],
      "execution_count": 4,
      "outputs": []
    },
    {
      "cell_type": "markdown",
      "metadata": {
        "id": "FFJewE6j4i__"
      },
      "source": [
        "First, we define the procedure of data generation. It will generate a dataset of samples $x \\in \\{0 \\dots 99\\}$"
      ]
    },
    {
      "cell_type": "code",
      "metadata": {
        "id": "M8GY5UIR4jAA"
      },
      "source": [
        "def sample_data():\n",
        "    count = 10000\n",
        "    rand = np.random.RandomState(0)\n",
        "    a = 0.3 + 0.1 * rand.randn(count)\n",
        "    b = 0.8 + 0.05 * rand.randn(count)\n",
        "    mask = rand.rand(count) < 0.5\n",
        "    samples = np.clip(a * mask + b * (1 - mask), 0.0, 1.0)\n",
        "    \n",
        "    return np.digitize(samples, np.linspace(0.0, 1.0, 100))"
      ],
      "execution_count": 5,
      "outputs": []
    },
    {
      "cell_type": "markdown",
      "metadata": {
        "id": "RgZ8gB9w4jAA"
      },
      "source": [
        "We generate data and perform train/val/test split."
      ]
    },
    {
      "cell_type": "code",
      "metadata": {
        "id": "eRRtgawj4jAB"
      },
      "source": [
        "data = sample_data()\n",
        "train_data, test_data = train_test_split(data, test_size = 0.3)\n",
        "train_data, val_data = train_test_split(train_data, test_size = 0.3)"
      ],
      "execution_count": 6,
      "outputs": []
    },
    {
      "cell_type": "markdown",
      "metadata": {
        "id": "CfDKuAKW4jAB"
      },
      "source": [
        "Let's plot and visualize the histogram of training data!"
      ]
    },
    {
      "cell_type": "code",
      "metadata": {
        "id": "0Ie7D3144jAB"
      },
      "source": [
        "def plot_histogram(data):\n",
        "    counts = Counter(data)\n",
        "    keys = list(counts.keys())\n",
        "    values = list(counts.values())\n",
        "    plt.bar(keys, values)\n",
        "    plt.show()"
      ],
      "execution_count": 7,
      "outputs": []
    },
    {
      "cell_type": "code",
      "metadata": {
        "id": "B1cRwXms4jAC",
        "colab": {
          "base_uri": "https://localhost:8080/",
          "height": 265
        },
        "outputId": "63e6c139-45a7-43fa-ddcd-948db8307c1b"
      },
      "source": [
        "plot_histogram(train_data)"
      ],
      "execution_count": 8,
      "outputs": [
        {
          "output_type": "display_data",
          "data": {
            "image/png": "[encoded data removed]",
            "text/plain": [
              "<Figure size 432x288 with 1 Axes>"
            ]
          },
          "metadata": {
            "tags": [],
            "needs_background": "light"
          }
        }
      ]
    },
    {
      "cell_type": "markdown",
      "metadata": {
        "id": "U_GdEGFM4jAC"
      },
      "source": [
        "On lecture we have discussed how to build histogram model. But this model is not the best choice for high-dimensional data. So, we suggesst to you to implement the following parametrized model:\n",
        "\n",
        "$$ p_\\theta(x)_i = \\frac{e^{\\theta_i}}{\\sum_j{e^{\\theta_j}}} $$\n",
        "\n",
        "Where $\\theta=(\\theta_0 \\dots \\theta_{99})$"
      ]
    },
    {
      "cell_type": "markdown",
      "metadata": {
        "id": "ZHKe4e2r4jAC"
      },
      "source": [
        "We propose you to implement this model in the following class"
      ]
    },
    {
      "cell_type": "code",
      "metadata": {
        "id": "RzHrtXvW4jAD"
      },
      "source": [
        "class SimpleProbabilityModel(nn.Module):\n",
        "    # Store all parameters of your model as class fields in constructor\n",
        "    def __init__(self,  num_elements=100):\n",
        "        super(SimpleProbabilityModel, self).__init__()\n",
        "        self.num_elements = num_elements\n",
        "        self.softmax = nn.Softmax(0)\n",
        "        self.layer = nn.Linear(in_features=1, out_features=self.num_elements, bias=False)\n",
        "        \n",
        "    def forward(self, indices):\n",
        "        theta = self.layer(torch.ones(1, requires_grad=False).to(device))\n",
        "        return theta[indices] - torch.log(torch.sum(torch.exp(theta)))\n",
        "    \n",
        "    def sample(self):\n",
        "        theta = self.layer(torch.ones(1, requires_grad=False).to(device))\n",
        "        probs = self.softmax(theta)\n",
        "        prob_dist = torch.distributions.Categorical(probs)\n",
        "        return prob_dist.sample().item()"
      ],
      "execution_count": 9,
      "outputs": []
    },
    {
      "cell_type": "markdown",
      "metadata": {
        "id": "00fIYQH14jAD"
      },
      "source": [
        "We will train this model using negative log-likelihood optimization: $ L_i = -\\log p_{y_i} $. Implement this loss calculation for your model given a batch of data samples."
      ]
    },
    {
      "cell_type": "code",
      "metadata": {
        "id": "PSb__uXj4jAD"
      },
      "source": [
        "# data: n.array of numbers from your training distribution\n",
        "# model: instance of your SimpleProbabilityModel.\n",
        "# should return: negative log-likelihood of your data given the model to perform backpropagation\n",
        "def calc_loss(data, model):\n",
        "    ################\n",
        "    return -1 * torch.mean(model.forward(data))\n",
        "    ###############"
      ],
      "execution_count": 10,
      "outputs": []
    },
    {
      "cell_type": "markdown",
      "metadata": {
        "id": "TCcdQ8pz4jAE"
      },
      "source": [
        "Finally, we can create instance of our model and perform training. Note that if your calculated previous loss as classic natural logarithm, here we scale it to binary logarithm for logging likelihood in bits (which is better for interpretation and comparisons)."
      ]
    },
    {
      "cell_type": "code",
      "metadata": {
        "id": "iPNOlJ0W4jAE"
      },
      "source": [
        "model = SimpleProbabilityModel().to(device)"
      ],
      "execution_count": 11,
      "outputs": []
    },
    {
      "cell_type": "code",
      "metadata": {
        "id": "8CIRSV524jAE"
      },
      "source": [
        "def train_simple_model(model, train_data, val_data, num_epochs=10000, batch_size=4000, lr=0.01):\n",
        "    optimizer = optim.SGD(model.parameters(), lr=lr)\n",
        "    train_losses = []\n",
        "    val_losses = []\n",
        "    for i in range(num_epochs):\n",
        "        for j in range(len(train_data) // batch_size):\n",
        "            optimizer.zero_grad()\n",
        "            batch = train_data[batch_size * j:batch_size * (j + 1)]\n",
        "            l = calc_loss(batch, model)\n",
        "            train_losses.append(l.item() / math.log(2))\n",
        "            l.backward()\n",
        "            optimizer.step()\n",
        "        l = calc_loss(val_data, model)\n",
        "        val_losses.append(l.item() / math.log(2))\n",
        "    \n",
        "    print(\"Train NLL(bits)\")\n",
        "    plt.plot(train_losses, color='green')\n",
        "    plt.show()\n",
        "\n",
        "    print(\"Val NLL(bits)\")\n",
        "    plt.plot(val_losses, color='red')\n",
        "    plt.show()\n",
        "    \n",
        "    print(\"Final validation NLL(bits): {}\".format(val_losses[-1]))"
      ],
      "execution_count": 12,
      "outputs": []
    },
    {
      "cell_type": "code",
      "metadata": {
        "id": "-EfdVuSm4jAF",
        "colab": {
          "base_uri": "https://localhost:8080/",
          "height": 564
        },
        "outputId": "a5ec671b-2555-432a-9a3b-2bb4710fe7f6"
      },
      "source": [
        "train_simple_model(model, train_data, val_data)"
      ],
      "execution_count": 13,
      "outputs": [
        {
          "output_type": "stream",
          "text": [
            "Train NLL(bits)\n"
          ],
          "name": "stdout"
        },
        {
          "output_type": "display_data",
          "data": {
            "image/png": "[encoded data removed]",
            "text/plain": [
              "<Figure size 432x288 with 1 Axes>"
            ]
          },
          "metadata": {
            "tags": [],
            "needs_background": "light"
          }
        },
        {
          "output_type": "stream",
          "text": [
            "Val NLL(bits)\n"
          ],
          "name": "stdout"
        },
        {
          "output_type": "display_data",
          "data": {
            "image/png": "[encoded data removed]",
            "text/plain": [
              "<Figure size 432x288 with 1 Axes>"
            ]
          },
          "metadata": {
            "tags": [],
            "needs_background": "light"
          }
        },
        {
          "output_type": "stream",
          "text": [
            "Final validation NLL(bits): 6.029675966858691\n"
          ],
          "name": "stdout"
        }
      ]
    },
    {
      "cell_type": "markdown",
      "metadata": {
        "id": "Ver2El304jAF"
      },
      "source": [
        "You can also tune your training parameters (number of epochs, batch size, learning rate, optimizer), to improve validation NLL. You should obtain something below 6."
      ]
    },
    {
      "cell_type": "markdown",
      "metadata": {
        "id": "7qTfcBAx4jAG"
      },
      "source": [
        "Finally, let's sample values from our model and visualize histograms of our test data and our sample data."
      ]
    },
    {
      "cell_type": "code",
      "metadata": {
        "id": "BHLeR8uJ4jAG"
      },
      "source": [
        "sampled_data = [model.sample() for _ in range(len(test_data))]"
      ],
      "execution_count": 14,
      "outputs": []
    },
    {
      "cell_type": "code",
      "metadata": {
        "id": "ViE2VC4l4jAG",
        "colab": {
          "base_uri": "https://localhost:8080/",
          "height": 515
        },
        "outputId": "22aeea29-48ae-4f9c-a21b-e01d76e5f678"
      },
      "source": [
        "plot_histogram(sampled_data)\n",
        "plot_histogram(test_data)"
      ],
      "execution_count": 15,
      "outputs": [
        {
          "output_type": "display_data",
          "data": {
            "image/png": "[encoded data removed]",
            "text/plain": [
              "<Figure size 432x288 with 1 Axes>"
            ]
          },
          "metadata": {
            "tags": [],
            "needs_background": "light"
          }
        },
        {
          "output_type": "display_data",
          "data": {
            "image/png": "[encoded data removed]",
            "text/plain": [
              "<Figure size 432x288 with 1 Axes>"
            ]
          },
          "metadata": {
            "tags": [],
            "needs_background": "light"
          }
        }
      ]
    },
    {
      "cell_type": "markdown",
      "metadata": {
        "id": "Di3fAHPQ4jAG"
      },
      "source": [
        "Training here might not yield perfect results, but pictures should look at least similar."
      ]
    },
    {
      "cell_type": "markdown",
      "metadata": {
        "collapsed": true,
        "id": "KvmDJL224jAH"
      },
      "source": [
        "# Part 2. 2D discrete data. Autoregressive model"
      ]
    },
    {
      "cell_type": "markdown",
      "metadata": {
        "id": "ej8X6uA84jAH"
      },
      "source": [
        "In this part we will built our own autoregressive model to work with two-dimensional discrete data data. "
      ]
    },
    {
      "cell_type": "markdown",
      "metadata": {
        "id": "wWfRBItn4jAH"
      },
      "source": [
        "We will load 2D distribution as is from file. It's 200x200 numpy array with probabilities."
      ]
    },
    {
      "cell_type": "code",
      "metadata": {
        "id": "cjZxDS9n4jAH",
        "colab": {
          "base_uri": "https://localhost:8080/"
        },
        "outputId": "399baf0b-d5e3-407f-9c98-4bce815967fb"
      },
      "source": [
        "# For colab users: download file\n",
        "! wget https://github.com/egiby/Generative-Models-MIPT/raw/main/module1-likelihood/distribution.npy"
      ],
      "execution_count": 16,
      "outputs": [
        {
          "output_type": "stream",
          "text": [
            "--2021-05-14 21:02:10--  https://github.com/egiby/Generative-Models-MIPT/raw/main/module1-likelihood/distribution.npy\n",
            "Resolving github.com (github.com)... 140.82.113.4\n",
            "Connecting to github.com (github.com)|140.82.113.4|:443... connected.\n",
            "HTTP request sent, awaiting response... 302 Found\n",
            "Location: https://raw.githubusercontent.com/egiby/Generative-Models-MIPT/main/module1-likelihood/distribution.npy [following]\n",
            "--2021-05-14 21:02:10--  https://raw.githubusercontent.com/egiby/Generative-Models-MIPT/main/module1-likelihood/distribution.npy\n",
            "Resolving raw.githubusercontent.com (raw.githubusercontent.com)... 185.199.108.133, 185.199.109.133, 185.199.110.133, ...\n",
            "Connecting to raw.githubusercontent.com (raw.githubusercontent.com)|185.199.108.133|:443... connected.\n",
            "HTTP request sent, awaiting response... 200 OK\n",
            "Length: 160128 (156K) [application/octet-stream]\n",
            "Saving to: ‘distribution.npy’\n",
            "\n",
            "distribution.npy    100%[===================>] 156.38K  --.-KB/s    in 0.004s  \n",
            "\n",
            "2021-05-14 21:02:10 (39.0 MB/s) - ‘distribution.npy’ saved [160128/160128]\n",
            "\n"
          ],
          "name": "stdout"
        }
      ]
    },
    {
      "cell_type": "code",
      "metadata": {
        "id": "LhA0p2jk4jAI"
      },
      "source": [
        "original_distribution = np.load(\"distribution.npy\")"
      ],
      "execution_count": 17,
      "outputs": []
    },
    {
      "cell_type": "markdown",
      "metadata": {
        "id": "UOeS-m6R4jAI"
      },
      "source": [
        "Let's define class to sample pair of numbers $(x,y) \\in \\{0 \\dots 199\\}^2$ from this distribution."
      ]
    },
    {
      "cell_type": "code",
      "metadata": {
        "id": "tkU7sMAV4jAI"
      },
      "source": [
        "class SampleDist:\n",
        "    def __init__(self, distribution):\n",
        "        self.probabilities = distribution.flatten()\n",
        "        self.rows, self.cols = distribution.shape\n",
        "        self.values = np.array([[i // self.cols, i % self.cols] for i in range(self.rows * self.cols)])\n",
        "\n",
        "    def sample(self):\n",
        "        idx = np.random.choice(self.rows * self.cols, p = self.probabilities)\n",
        "        \n",
        "        return self.values[idx]"
      ],
      "execution_count": 18,
      "outputs": []
    },
    {
      "cell_type": "markdown",
      "metadata": {
        "id": "EvcRYPUa4jAI"
      },
      "source": [
        "So, we define distribution, sample data and create train/val/test splits."
      ]
    },
    {
      "cell_type": "code",
      "metadata": {
        "id": "ysSIRztQ4jAJ"
      },
      "source": [
        "dist2D = SampleDist(original_distribution)"
      ],
      "execution_count": 19,
      "outputs": []
    },
    {
      "cell_type": "code",
      "metadata": {
        "id": "dbGNetQU4jAJ"
      },
      "source": [
        "SIZE = 100000\n",
        "sampled_data = np.array([dist2D.sample() for _ in range(SIZE)])"
      ],
      "execution_count": 20,
      "outputs": []
    },
    {
      "cell_type": "code",
      "metadata": {
        "id": "IoEP1xyC4jAJ"
      },
      "source": [
        "train_data, test_data = train_test_split(sampled_data, test_size = 0.2)\n",
        "train_data, val_data = train_test_split(train_data, test_size = 0.2)"
      ],
      "execution_count": 21,
      "outputs": []
    },
    {
      "cell_type": "markdown",
      "metadata": {
        "id": "5PGdUYlm4jAJ"
      },
      "source": [
        "We will build our autoregressive model in $(x, y)$ as follows:\n",
        "\n",
        "- Train marginal model $p(x)$ as in part 1\n",
        "- Create and train conditional model $p(y|x)$ as multi-layer neural network"
      ]
    },
    {
      "cell_type": "markdown",
      "metadata": {
        "id": "mqE696hx4jAJ"
      },
      "source": [
        "Here, create class for your conditional model $p(y|x)$. It should take $x$ as batch of integer inputs and return batch of probability distributions over $y$."
      ]
    },
    {
      "cell_type": "code",
      "metadata": {
        "id": "YWDcJ48u4jAK"
      },
      "source": [
        "def one_hot(targets, C = 2):\n",
        "    one_hot = torch.FloatTensor(targets.size(0), C).zero_().to(device)\n",
        "    one_hot.scatter_(1, targets[:, None], 1) \n",
        "    return one_hot\n",
        "\n",
        "class ConditionalModel(nn.Module):\n",
        "    # Store all your trainable layers as model fiels in constuctor\n",
        "    def __init__(self):\n",
        "        super(ConditionalModel, self).__init__()\n",
        "        \n",
        "        ################\n",
        "        self.relu = nn.ReLU()\n",
        "        self.dropout = nn.Dropout(0.1)\n",
        "        self.layer1 = nn.Linear(in_features=200, out_features=200, bias=True)\n",
        "        self.layer2 = nn.Linear(in_features=200, out_features=200, bias=True)\n",
        "        ###############\n",
        "    \n",
        "    # Forward pass takes LongTensor x of shape (N,) and should return predicted logprobs of shape (N, 200)\n",
        "    def forward(self, x):\n",
        "        ################\n",
        "        x = one_hot(x, 200)\n",
        "        y = self.layer1(x)\n",
        "        y = self.relu(y)\n",
        "        y = self.dropout(y)\n",
        "        y = self.layer2(x)\n",
        "        return y - torch.log(torch.sum(torch.exp(y), dim=1)[:, None])\n",
        "        ###############"
      ],
      "execution_count": 23,
      "outputs": []
    },
    {
      "cell_type": "markdown",
      "metadata": {
        "id": "-T9faK0e4jAK"
      },
      "source": [
        "Finally, create a model and train it."
      ]
    },
    {
      "cell_type": "code",
      "metadata": {
        "id": "zo7mxz6b4jAK"
      },
      "source": [
        "cond_model = ConditionalModel().to(device)"
      ],
      "execution_count": 24,
      "outputs": []
    },
    {
      "cell_type": "code",
      "metadata": {
        "id": "iOqXXCy64jAK"
      },
      "source": [
        "def train_cond_model(cond_model, train_data, num_epochs=100, lr=0.001, batch_size=10000):\n",
        "    dataset = torch.utils.data.TensorDataset(torch.LongTensor(train_data.T[0]).to(device), \n",
        "                                             torch.LongTensor(train_data.T[1]).to(device))\n",
        "    dataloader = torch.utils.data.DataLoader(dataset, batch_size=batch_size, shuffle=True)\n",
        "    loss = nn.NLLLoss()\n",
        "    optimizer = optim.Adam(cond_model.parameters(), lr=lr)\n",
        "    \n",
        "    train_losses = []\n",
        "    \n",
        "    for i in range(num_epochs):\n",
        "        for X_train, Y_train in dataloader:\n",
        "            optimizer.zero_grad()\n",
        "            predictions = cond_model(X_train)\n",
        "            l = loss(predictions, Y_train)\n",
        "            l.backward()\n",
        "            optimizer.step()\n",
        "            \n",
        "            train_losses.append(l.item() / math.log(2))\n",
        "    \n",
        "    print(\"Train NLL(bits)\")\n",
        "    plt.plot(train_losses, color='green')\n",
        "    plt.show()"
      ],
      "execution_count": 25,
      "outputs": []
    },
    {
      "cell_type": "code",
      "metadata": {
        "id": "MbWr89b44jAL",
        "colab": {
          "base_uri": "https://localhost:8080/",
          "height": 282
        },
        "outputId": "ff25f5c6-487d-47b4-b8fb-da583328fbca"
      },
      "source": [
        "train_cond_model(cond_model, train_data)"
      ],
      "execution_count": 26,
      "outputs": [
        {
          "output_type": "stream",
          "text": [
            "Train NLL(bits)\n"
          ],
          "name": "stdout"
        },
        {
          "output_type": "display_data",
          "data": {
            "image/png": "[encoded data removed]",
            "text/plain": [
              "<Figure size 432x288 with 1 Axes>"
            ]
          },
          "metadata": {
            "tags": [],
            "needs_background": "light"
          }
        }
      ]
    },
    {
      "cell_type": "markdown",
      "metadata": {
        "id": "8K4L-FQG4jAL"
      },
      "source": [
        "To build compound model, we will also need our simple model from part 1, trained on marginal data from our distribution (only x values)."
      ]
    },
    {
      "cell_type": "code",
      "metadata": {
        "id": "HfjlfJOf4jAL",
        "colab": {
          "base_uri": "https://localhost:8080/",
          "height": 567
        },
        "outputId": "7d901c3a-b0f1-4b98-a4ba-fedf4d75d46f"
      },
      "source": [
        "x_model = SimpleProbabilityModel(num_elements=200).to(device)\n",
        "train_simple_model(x_model, train_data.T[0], val_data.T[0], num_epochs=3000)"
      ],
      "execution_count": 27,
      "outputs": [
        {
          "output_type": "stream",
          "text": [
            "Train NLL(bits)\n"
          ],
          "name": "stdout"
        },
        {
          "output_type": "display_data",
          "data": {
            "image/png": "[encoded data removed]",
            "text/plain": [
              "<Figure size 432x288 with 1 Axes>"
            ]
          },
          "metadata": {
            "tags": [],
            "needs_background": "light"
          }
        },
        {
          "output_type": "stream",
          "text": [
            "Val NLL(bits)\n"
          ],
          "name": "stdout"
        },
        {
          "output_type": "display_data",
          "data": {
            "image/png": "[encoded data removed]",
            "text/plain": [
              "<Figure size 432x288 with 1 Axes>"
            ]
          },
          "metadata": {
            "tags": [],
            "needs_background": "light"
          }
        },
        {
          "output_type": "stream",
          "text": [
            "Final validation NLL(bits): 7.622328872410368\n"
          ],
          "name": "stdout"
        }
      ]
    },
    {
      "cell_type": "markdown",
      "metadata": {
        "id": "XGX9ev-Z4jAL"
      },
      "source": [
        "Finally, we are ready to build compound model for our total $(x, y)$ distribution modeling. Having two trained models implement sampling procedure and probability calculation."
      ]
    },
    {
      "cell_type": "code",
      "metadata": {
        "id": "gM3EAXwb4jAL"
      },
      "source": [
        "class CompoundModel:\n",
        "    def __init__(self, x_model, cond_model):\n",
        "        self.x_model = x_model\n",
        "        self.cond_model = cond_model\n",
        "        \n",
        "        self.x_model.eval()\n",
        "        self.cond_model.eval()\n",
        "    \n",
        "    # Given two numbers x, y from 0 .. 199, return NLL value -log p(x,y)\n",
        "    # Normalize in in the way it will return NLL in bits / dimention (binary log divided by two in our case)\n",
        "    def get_logprob(self, x, y):\n",
        "        ################\n",
        "        x = torch.tensor(x).to(device)\n",
        "        p_x = self.x_model(x)\n",
        "        p_y_1_x = self.cond_model(x[None])\n",
        "        p_y_1_x = p_y_1_x[0][y]\n",
        "        p_x_y = p_x + p_y_1_x\n",
        "        return -1 * p_x_y / math.log(2)\n",
        "        ###############\n",
        "    \n",
        "    # Implement sampling procedure. One call should return sample (x, y) as numpy array from two elements\n",
        "    def sample(self):\n",
        "        ################\n",
        "        x = self.x_model.sample()\n",
        "        x_ = torch.tensor(x).to(device)\n",
        "        log_p = self.cond_model(x_[None])\n",
        "        p = nn.Softmax(-1)(log_p)\n",
        "        prob_dist = torch.distributions.Categorical(p)\n",
        "        y = prob_dist.sample().item()\n",
        "        return np.array([x, y])\n",
        "        ###############"
      ],
      "execution_count": 28,
      "outputs": []
    },
    {
      "cell_type": "code",
      "metadata": {
        "id": "JvqFkIKu4jAM"
      },
      "source": [
        "compound_model = CompoundModel(x_model, cond_model)"
      ],
      "execution_count": 29,
      "outputs": []
    },
    {
      "cell_type": "markdown",
      "metadata": {
        "id": "7fLg52ay4jAM"
      },
      "source": [
        "Calculate total average NLL in bits / dimension on your validation data. Tune training parameters and conditional model architecture to boost your performance."
      ]
    },
    {
      "cell_type": "code",
      "metadata": {
        "id": "j1ul1HFA4jAM",
        "colab": {
          "base_uri": "https://localhost:8080/"
        },
        "outputId": "625bfcfc-4f49-4a4d-890a-10a82fee0c42"
      },
      "source": [
        "total_logprob = 0\n",
        "for elem in val_data:\n",
        "    logprob = compound_model.get_logprob(elem[0], elem[1])\n",
        "    total_logprob += logprob\n",
        "print(\"Total NLL on validation data per dimension: {}\".format(total_logprob / val_data.shape[0]))"
      ],
      "execution_count": 30,
      "outputs": [
        {
          "output_type": "stream",
          "text": [
            "Total NLL on validation data per dimension: 15.255651473999023\n"
          ],
          "name": "stdout"
        }
      ]
    },
    {
      "cell_type": "markdown",
      "metadata": {
        "id": "TZBm2ea44jAN"
      },
      "source": [
        "Check if sampling from your model works."
      ]
    },
    {
      "cell_type": "code",
      "metadata": {
        "id": "AnRMvppX4jAN",
        "colab": {
          "base_uri": "https://localhost:8080/"
        },
        "outputId": "68d3c994-42e9-4e06-8e1f-c0b26744e4d6"
      },
      "source": [
        "compound_model.sample()"
      ],
      "execution_count": 31,
      "outputs": [
        {
          "output_type": "execute_result",
          "data": {
            "text/plain": [
              "array([  5, 171])"
            ]
          },
          "metadata": {
            "tags": []
          },
          "execution_count": 31
        }
      ]
    },
    {
      "cell_type": "markdown",
      "metadata": {
        "id": "dfEvGTN04jAN"
      },
      "source": [
        "Finally, get enough samples from your final model and display 2D histogram of the results. Compare them with the results you can get from your test data."
      ]
    },
    {
      "cell_type": "code",
      "metadata": {
        "id": "UmcYv2I44jAN"
      },
      "source": [
        "sampled_2d_data = np.array([compound_model.sample() for _ in range(test_data.shape[0])])"
      ],
      "execution_count": 32,
      "outputs": []
    },
    {
      "cell_type": "code",
      "metadata": {
        "id": "n6nPjx-Z4jAO"
      },
      "source": [
        "def plot_2dhistogram(data):\n",
        "    plt.hist2d(data.T[0], data.T[1], bins=200, cmap='gray')\n",
        "    plt.show()"
      ],
      "execution_count": 33,
      "outputs": []
    },
    {
      "cell_type": "code",
      "metadata": {
        "id": "2R1ytgLA4jAO",
        "colab": {
          "base_uri": "https://localhost:8080/",
          "height": 265
        },
        "outputId": "008f34e6-8f65-4e60-aca5-a84dddfa9054"
      },
      "source": [
        "# plot_2dhistogram(sampled_2d_data)\n",
        "plot_2dhistogram(test_data)"
      ],
      "execution_count": 34,
      "outputs": [
        {
          "output_type": "display_data",
          "data": {
            "image/png": "[encoded data removed]",
            "text/plain": [
              "<Figure size 432x288 with 1 Axes>"
            ]
          },
          "metadata": {
            "tags": [],
            "needs_background": "light"
          }
        }
      ]
    },
    {
      "cell_type": "markdown",
      "metadata": {
        "id": "cP6AXllU4jAO"
      },
      "source": [
        "Doesn't this picture resemble anything? (look at the rotated version of the histogram). Check out how your original distribution looks like!"
      ]
    },
    {
      "cell_type": "code",
      "metadata": {
        "id": "owPMOten4jAO",
        "colab": {
          "base_uri": "https://localhost:8080/",
          "height": 269
        },
        "outputId": "8b13134a-cde8-4790-8850-2fe2de22d17e"
      },
      "source": [
        "plt.imshow(original_distribution, cmap=\"gray\")\n",
        "plt.show()"
      ],
      "execution_count": 35,
      "outputs": [
        {
          "output_type": "display_data",
          "data": {
            "image/png": "[encoded data removed]",
            "text/plain": [
              "<Figure size 432x288 with 1 Axes>"
            ]
          },
          "metadata": {
            "tags": [],
            "needs_background": "light"
          }
        }
      ]
    },
    {
      "cell_type": "markdown",
      "metadata": {
        "id": "RFQxGDzr4jAO"
      },
      "source": [
        "# Part 3. 2D Continuous Data. RealNVP flow model"
      ]
    },
    {
      "cell_type": "markdown",
      "metadata": {
        "id": "zvW4fZVE4jAP"
      },
      "source": [
        "In this part we will build flow model, transforming given 2D continuous distribution to uniform 2D distribution. Our distribution will be represented as a set of samples. We will use RealNVP model, which we discussed on lecture."
      ]
    },
    {
      "cell_type": "markdown",
      "metadata": {
        "id": "Ss90NfNA4jAP"
      },
      "source": [
        "First of all, we define function for data sampling, use it and perform train/val/test split as usual. This time all elements also have labels, associated with them. We wil use them for visualization purposes."
      ]
    },
    {
      "cell_type": "code",
      "metadata": {
        "id": "pDUa6wSv4jAP"
      },
      "source": [
        "def sample_data():\n",
        "    count = 100000\n",
        "    rand = np.random.RandomState(0)\n",
        "    a = [[-1.5, 2.5]] + rand.randn(count // 3, 2) * 0.2\n",
        "    b = [[1.5, 2.5]] + rand.randn(count // 3, 2) * 0.2\n",
        "    c = np.c_[2 * np.cos(np.linspace(0, np.pi, count // 3)),\n",
        "    -np.sin(np.linspace(0, np.pi, count // 3))]\n",
        "\n",
        "    c += rand.randn(*c.shape) * 0.2\n",
        "    data_x = np.concatenate([a, b, c], axis=0)\n",
        "    data_y = np.array([0] * len(a) + [1] * len(b) + [2] * len(c))\n",
        "    perm = rand.permutation(len(data_x))\n",
        "    return data_x[perm], data_y[perm]"
      ],
      "execution_count": 36,
      "outputs": []
    },
    {
      "cell_type": "code",
      "metadata": {
        "id": "9AEem9Et4jAP"
      },
      "source": [
        "X, Y = sample_data()\n",
        "X_train, X_test, Y_train, Y_test = train_test_split(X, Y, test_size = 0.2)\n",
        "X_train, X_val, Y_train, Y_val = train_test_split(X_train, Y_train, test_size = 0.2)"
      ],
      "execution_count": 37,
      "outputs": []
    },
    {
      "cell_type": "markdown",
      "metadata": {
        "id": "h-CKzZ974jAP"
      },
      "source": [
        "Let's take a look on a 2D histogram of our train set distribution."
      ]
    },
    {
      "cell_type": "code",
      "metadata": {
        "id": "qTxxwdov4jAQ",
        "colab": {
          "base_uri": "https://localhost:8080/",
          "height": 265
        },
        "outputId": "2edf0a74-713e-4ddd-a57d-df5e53dca7ca"
      },
      "source": [
        "plt.hist2d(X_train.T[0], X_train.T[1], bins=100, cmap='gray')\n",
        "plt.show()"
      ],
      "execution_count": 38,
      "outputs": [
        {
          "output_type": "display_data",
          "data": {
            "image/png": "[encoded data removed]",
            "text/plain": [
              "<Figure size 432x288 with 1 Axes>"
            ]
          },
          "metadata": {
            "tags": [],
            "needs_background": "light"
          }
        }
      ]
    },
    {
      "cell_type": "markdown",
      "metadata": {
        "id": "BTOBIxM34jAQ"
      },
      "source": [
        "Let's also visualize distribution in point form with different colors, associated with labels."
      ]
    },
    {
      "cell_type": "code",
      "metadata": {
        "id": "cfeTDrye4jAQ",
        "colab": {
          "base_uri": "https://localhost:8080/",
          "height": 265
        },
        "outputId": "c1b0324b-08cc-4d5a-b06b-0da40a3558b8"
      },
      "source": [
        "plt.scatter(X_train.T[0], X_train.T[1], c = Y_train)\n",
        "plt.show()"
      ],
      "execution_count": 39,
      "outputs": [
        {
          "output_type": "display_data",
          "data": {
            "image/png": "[encoded data removed]",
            "text/plain": [
              "<Figure size 432x288 with 1 Axes>"
            ]
          },
          "metadata": {
            "tags": [],
            "needs_background": "light"
          }
        }
      ]
    },
    {
      "cell_type": "markdown",
      "metadata": {
        "id": "MpyphlZB4jAQ"
      },
      "source": [
        "We will build RealNVP flow model using affine coupling layer as main building block. In two-coordinates case it takes the following form:\n",
        "\n",
        "$$ (x_1, x_2) \\rightarrow (z_1, z_2) $$\n",
        "$$ z_1 = x_1 $$\n",
        "$$ z_2 = x_2 \\cdot \\sigma(s(x_1)) + t(x_1) $$\n",
        "\n",
        "Where vector from $s, t$ values is calculated as neural network with $x_1$ on input and $\\sigma$ is sigmoid function. Cool thing about RealNVP is that this network can be arbitrary complex and doesn't need to be invertible itself to have invertible flow for affine coupling layer!"
      ]
    },
    {
      "cell_type": "markdown",
      "metadata": {
        "id": "agZtbCSc4jAQ"
      },
      "source": [
        "Flows support composition and we will use it. In general, we will compose our total flow in the following way:\n",
        "\n",
        "$$ (z_1, z_2) = (\\sigma \\circ f_{\\theta, 1} \\circ \\dots \\circ f_{\\theta, n})(x_1, x_2) $$\n",
        "\n",
        "Where $f_{\\theta, i}$ is affine coupling layers described above. And $\\sigma$ is elementwise sigmoid function"
      ]
    },
    {
      "cell_type": "markdown",
      "metadata": {
        "id": "lRNuth3w4jAR"
      },
      "source": [
        "Important thing in flows training is loss function. In case of flows composition, log-likelihood objective takes the following form:\n",
        "\n",
        "$$ \\log p_\\theta(x) = \\log p_\\theta(z) + \\sum_i \\log | \\det \\frac{\\partial f_i}{\\partial f_{i-1}}| $$\n",
        "\n",
        "Here $\\det \\frac{\\partial f_i}{\\partial f_{i-1}}$ is Jacobian matrix determinant for each flow operation. And $\\log p_\\theta(z)$ is log likelihood of latent space we are mapping to (in our case $U(0, 1)^2$)"
      ]
    },
    {
      "cell_type": "markdown",
      "metadata": {
        "id": "REPyoqrr4jAR"
      },
      "source": [
        "Answer the following questions (you will need the answers to complete your RealNVP model code):\n",
        "\n",
        "1. What is $\\log | \\det \\frac{\\partial f_i}{\\partial f_{i-1}} |$ for affine coupling operation?\n",
        "2. What is $\\log | \\det \\frac{\\partial f_i}{\\partial f_{i-1}} |$ for elementwise sigmoid operation?\n",
        "3. What are the inverse operations for both sigmoid and affine coupling?\n",
        "4. How $\\log p_\\theta(z)$ in case of $U(0, 1)^2$ can be calculated?"
      ]
    },
    {
      "cell_type": "markdown",
      "metadata": {
        "id": "2iiqvtVx4jAR"
      },
      "source": [
        "We will start implementation of RealNVP from affine coupling layer. You will need to implement inverse operation calculations as well as objective update for each layer ($\\log | \\det \\frac{\\partial f_i}{\\partial f_{i-1}} |$)."
      ]
    },
    {
      "cell_type": "code",
      "metadata": {
        "id": "nlt-Uryo4jAR"
      },
      "source": [
        "class AffineCoupling(nn.Module):\n",
        "    def __init__(self, num_features=2):\n",
        "        super(AffineCoupling, self).__init__()\n",
        "        # Store your NN model for s and t values calculation\n",
        "        # Your network should take num_features // 2 elements on input (1 in our case)\n",
        "        # And return num_features elements on output (1 in our case)\n",
        "        self.relu = nn.ReLU()\n",
        "        self.dropout = nn.Dropout(0.1)\n",
        "        self.layer1 = nn.Linear(num_features // 2, 50, bias=True)\n",
        "        self.layer2 = nn.Linear(50, 50, bias=True)\n",
        "        self.layer3 = nn.Linear(50, num_features, bias=True)\n",
        "        self.NN = nn.Sequential(\n",
        "            self.layer1, self.dropout, self.relu,\n",
        "            self.layer2, self.dropout, self.relu,\n",
        "            self.layer3,\n",
        "        )\n",
        "    \n",
        "    # Forward pass is implemented for you. Implement your objective update\n",
        "    def forward(self, x, objective):\n",
        "        z1, z2 = torch.chunk(x, 2, dim=1)\n",
        "        h = self.NN(z1)\n",
        "        shift = h[:, 0::2]\n",
        "        scale = torch.sigmoid(h[:, 1::2])\n",
        "        z2 = z2 + shift\n",
        "        z2 = z2 * scale\n",
        "        objective = objective + torch.sum(torch.log(scale))\n",
        "        \n",
        "        return torch.cat([z1, z2], dim=1), objective\n",
        "    \n",
        "    # Implement reverse value calculation\n",
        "    def reverse(self, x):\n",
        "        ################\n",
        "        x1, x2 = torch.chunk(x, 2, dim=1)\n",
        "        h = self.NN(x1)\n",
        "        shift = h[:, 0::2]\n",
        "        \n",
        "        scale = torch.sigmoid(h[:, 1::2])\n",
        "        x2 -= shift\n",
        "        x2 /= scale\n",
        "        return torch.cat([x1, x2], dim=1)\n",
        "        ###############"
      ],
      "execution_count": 80,
      "outputs": []
    },
    {
      "cell_type": "markdown",
      "metadata": {
        "id": "bt1SEY_o4jAS"
      },
      "source": [
        "Now do the same for elemntwise sigmoid function."
      ]
    },
    {
      "cell_type": "code",
      "metadata": {
        "id": "UO761GC04jAS"
      },
      "source": [
        "# Elementwise sigmoid flow from R^n to (0; 1)^n\n",
        "class ElementwiseSigmoid(nn.Module):\n",
        "    def __init__(self):\n",
        "        super(ElementwiseSigmoid, self).__init__()\n",
        "    \n",
        "    def forward(self, x, objective):\n",
        "        x = torch.sigmoid(x)\n",
        "        objective = objective + torch.sum(torch.log(x.clone() * (1 - x.clone())))\n",
        "        return x, objective\n",
        "    \n",
        "    def reverse(self, x):\n",
        "        ################\n",
        "        return -1 * torch.log(1 / x - 1)\n",
        "        ###############"
      ],
      "execution_count": 81,
      "outputs": []
    },
    {
      "cell_type": "markdown",
      "metadata": {
        "id": "YTpMZw394jAS"
      },
      "source": [
        "We will also need to swap dimentions from time to time for affine couling layer, so it leaves different parts of input the same on different iterations. Answer the following questions:\n",
        "1. Is this operation legal? Is it a flow? What is the reverse operation?\n",
        "2. That is $\\log | \\det \\frac{\\partial f_i}{\\partial f_{i-1}} |$ for this operation?"
      ]
    },
    {
      "cell_type": "code",
      "metadata": {
        "id": "lrEnkod34jAU"
      },
      "source": [
        "def dimensions_swap(x):\n",
        "    x1, x2 = torch.chunk(x, 2, dim=1)\n",
        "    return torch.cat([x2, x1], dim=1)"
      ],
      "execution_count": 82,
      "outputs": []
    },
    {
      "cell_type": "markdown",
      "metadata": {
        "id": "DKJdVJMM4jAU"
      },
      "source": [
        "Finally, we build RealNVP model from defined operations. Feel free to change number of affine coupling layers inside the model."
      ]
    },
    {
      "cell_type": "code",
      "metadata": {
        "id": "g9NOWsEs4jAU"
      },
      "source": [
        "class RealNVP(nn.Module):\n",
        "    def __init__(self, n_transforms=4):\n",
        "        super(RealNVP, self).__init__()\n",
        "        \n",
        "        self.affines = nn.ModuleList([AffineCoupling() for _ in range(n_transforms)])\n",
        "        self.sigmoid = ElementwiseSigmoid()\n",
        "        \n",
        "    def forward(self, x):\n",
        "        objective = 0\n",
        "        for layer in self.affines:\n",
        "            x, objective = layer(x, objective)\n",
        "            x = dimensions_swap(x)\n",
        "\n",
        "        x, objective = self.sigmoid(x, objective)\n",
        "        \n",
        "        return x, objective\n",
        "    \n",
        "    def reverse(self, x):\n",
        "        x = self.sigmoid.reverse(x)\n",
        "        for layer in reversed(self.affines):\n",
        "            x = dimensions_swap(x)\n",
        "            x = layer.reverse(x)\n",
        "            \n",
        "        return x"
      ],
      "execution_count": 83,
      "outputs": []
    },
    {
      "cell_type": "markdown",
      "metadata": {
        "id": "N0EK0xmS4jAV"
      },
      "source": [
        "At last, we define training procedure. Here we have calculated our total objective from flows log-det-s, however, we still need to define our loss, which we need to minimize. We also want to accumulate training loss values in bits. Fill this out!"
      ]
    },
    {
      "cell_type": "code",
      "metadata": {
        "id": "s_AgXW_64jAV"
      },
      "source": [
        "def train_realnvp(model, train_data, batch_size = 512, lr = 0.005, num_epochs = 5):\n",
        "    dataset = torch.utils.data.TensorDataset(torch.Tensor(train_data).to(device))\n",
        "    dataloader = torch.utils.data.DataLoader(dataset, batch_size=batch_size, shuffle=True)\n",
        "    optimizer = optim.Adam(model.parameters(), lr=lr)\n",
        "    train_losses = []\n",
        "    \n",
        "    for i in range(num_epochs):\n",
        "        for X_train in dataloader:\n",
        "            optimizer.zero_grad()\n",
        "            predictions, objective = model(X_train[0])\n",
        "            \n",
        "            # Define your total loss value here\n",
        "            mu = torch.zeros(2).to(device)\n",
        "            C = torch.eye(2, 2).to(device)\n",
        "            normal_distr = torch.distributions.MultivariateNormal(mu, covariance_matrix=C)\n",
        "            loss = -1 * torch.sum(normal_distr.log_prob(predictions)) - objective\n",
        "            loss.backward()\n",
        "            optimizer.step()\n",
        "            \n",
        "            train_losses.append(\n",
        "                # Store the value of total NLL here\n",
        "                loss.item() / X_train[0].shape[0]\n",
        "            )\n",
        "            \n",
        "    print(\"Train NLL(bits)\")\n",
        "    plt.plot(train_losses, color='green')\n",
        "    plt.show()"
      ],
      "execution_count": 84,
      "outputs": []
    },
    {
      "cell_type": "markdown",
      "metadata": {
        "id": "PtupPk-64jAV"
      },
      "source": [
        "Create the model and launch training"
      ]
    },
    {
      "cell_type": "code",
      "metadata": {
        "id": "1dg9Gy0L4jAV"
      },
      "source": [
        "realnvp = RealNVP().to(device)"
      ],
      "execution_count": 85,
      "outputs": []
    },
    {
      "cell_type": "code",
      "metadata": {
        "id": "1w4GKO6X4jAW",
        "colab": {
          "base_uri": "https://localhost:8080/",
          "height": 282
        },
        "outputId": "6bdb6f45-f2cc-493b-e2a7-9b3ac4bce0ae"
      },
      "source": [
        "train_realnvp(realnvp, X_train)"
      ],
      "execution_count": 86,
      "outputs": [
        {
          "output_type": "stream",
          "text": [
            "Train NLL(bits)\n"
          ],
          "name": "stdout"
        },
        {
          "output_type": "display_data",
          "data": {
            "image/png": "[encoded data removed]",
            "text/plain": [
              "<Figure size 432x288 with 1 Axes>"
            ]
          },
          "metadata": {
            "tags": [],
            "needs_background": "light"
          }
        }
      ]
    },
    {
      "cell_type": "markdown",
      "metadata": {
        "id": "_VLsG3N14jAW"
      },
      "source": [
        "Now evaluate your model: calculate NLL in bits on your validation set."
      ]
    },
    {
      "cell_type": "code",
      "metadata": {
        "id": "FqalW1-44jAW",
        "colab": {
          "base_uri": "https://localhost:8080/"
        },
        "outputId": "59bbe5bb-f6ea-4dc4-ac81-ce8c333be618"
      },
      "source": [
        "realnvp.eval()\n",
        "\n",
        "# Implement NLL calculation on X_val data\n",
        "################\n",
        "total_logprob = 0\n",
        "mu = torch.zeros(2).to(device)\n",
        "C = torch.eye(2, 2).to(device)\n",
        "normal_distr = torch.distributions.MultivariateNormal(mu, covariance_matrix=C)\n",
        "for i in range(X_val.shape[0] // 100):\n",
        "    elem = torch.tensor(X_val[i*100:(i+1)*100], dtype=torch.float32).to(device)\n",
        "    predictions, objective = realnvp(elem)\n",
        "    total_logprob += objective + torch.sum(normal_distr.log_prob(predictions))\n",
        "###############\n",
        "val_nll_bits = -1 * total_logprob / X_val.shape[0]\n",
        "print(\"NLL on validation set in bits: {}\".format(val_nll_bits))"
      ],
      "execution_count": 87,
      "outputs": [
        {
          "output_type": "stream",
          "text": [
            "NLL on validation set in bits: 5.085814952850342\n"
          ],
          "name": "stdout"
        }
      ]
    },
    {
      "cell_type": "markdown",
      "metadata": {
        "id": "ZBIWnhXj4jAW"
      },
      "source": [
        "Feel free to tune your model parameters to improve your NLL score!"
      ]
    },
    {
      "cell_type": "markdown",
      "metadata": {
        "id": "ZfzrtaTI4jAW"
      },
      "source": [
        "Now it's time for some visualizations! Let's calculate flow values of our validation data."
      ]
    },
    {
      "cell_type": "code",
      "metadata": {
        "id": "MEW6tXn64jAX"
      },
      "source": [
        "sampled_flow = realnvp(torch.Tensor(X_val).to(device))[0].detach().cpu().numpy()"
      ],
      "execution_count": 88,
      "outputs": []
    },
    {
      "cell_type": "markdown",
      "metadata": {
        "id": "N0Nk_OBR4jAX"
      },
      "source": [
        "Now we will visualize our points before and after passing throw the flow, leaving the label color."
      ]
    },
    {
      "cell_type": "code",
      "metadata": {
        "id": "H6MbgFq54jAX",
        "colab": {
          "base_uri": "https://localhost:8080/",
          "height": 265
        },
        "outputId": "d5a6d6aa-2545-4e40-889b-85c6ecc0d775"
      },
      "source": [
        "plt.scatter(X_val.T[0], X_val.T[1], c = Y_val)\n",
        "plt.show()"
      ],
      "execution_count": 89,
      "outputs": [
        {
          "output_type": "display_data",
          "data": {
            "image/png": "[encoded data removed]",
            "text/plain": [
              "<Figure size 432x288 with 1 Axes>"
            ]
          },
          "metadata": {
            "tags": [],
            "needs_background": "light"
          }
        }
      ]
    },
    {
      "cell_type": "code",
      "metadata": {
        "id": "cRCWxAkx4jAX",
        "colab": {
          "base_uri": "https://localhost:8080/",
          "height": 265
        },
        "outputId": "58f77378-a4ea-4f27-a4ca-3b44dd37fea6"
      },
      "source": [
        "plt.scatter(sampled_flow.T[0], sampled_flow.T[1], c = Y_val)\n",
        "plt.show()"
      ],
      "execution_count": 90,
      "outputs": [
        {
          "output_type": "display_data",
          "data": {
            "image/png": "[encoded data removed]",
            "text/plain": [
              "<Figure size 432x288 with 1 Axes>"
            ]
          },
          "metadata": {
            "tags": [],
            "needs_background": "light"
          }
        }
      ]
    },
    {
      "cell_type": "markdown",
      "metadata": {
        "id": "rEwcSzxN4jAX"
      },
      "source": [
        "Finally, let's perform sampling from RealNVP and visualize their histogram to compare with testing data."
      ]
    },
    {
      "cell_type": "code",
      "metadata": {
        "id": "x8Qc-9_z4jAY"
      },
      "source": [
        "def sample_from_realnvp(model):\n",
        "    x1 = random.random()\n",
        "    x2 = random.random()\n",
        "    latent = torch.Tensor([[x1, x2]]).to(device)\n",
        "    result = realnvp.reverse(latent)[0]\n",
        "    \n",
        "    return result.detach().cpu().numpy()"
      ],
      "execution_count": 91,
      "outputs": []
    },
    {
      "cell_type": "code",
      "metadata": {
        "id": "3UEQ2ZeF4jAY",
        "colab": {
          "base_uri": "https://localhost:8080/"
        },
        "outputId": "0926075b-bcd0-48bb-9de3-42a4fb29f054"
      },
      "source": [
        "sampled_data = [sample_from_realnvp(realnvp) for _ in range(X_test.shape[0])]"
      ],
      "execution_count": 92,
      "outputs": [
        {
          "output_type": "stream",
          "text": [
            "/usr/local/lib/python3.7/dist-packages/ipykernel_launcher.py:38: UserWarning: A view was created in no_grad mode and is being modified inplace with grad mode enabled. This view is an output of a function that returns multiple views. Inplace operators on such views are being deprecated and will be forbidden starting from version 1.8. Consider using `unsafe_` version of the function that produced this view or don't modify this view inplace. (Triggered internally at  /pytorch/torch/csrc/autograd/variable.cpp:547.)\n",
            "/usr/local/lib/python3.7/dist-packages/ipykernel_launcher.py:38: UserWarning: Output 1 of SplitBackward is a view and is being modified inplace. This view is an output of a function that returns multiple views. Inplace operators on such views are being deprecated and will be forbidden starting from version 1.8. Consider using `unsafe_` version of the function that produced this view or don't modify this view inplace. (Triggered internally at  /pytorch/torch/csrc/autograd/variable.cpp:547.)\n"
          ],
          "name": "stderr"
        }
      ]
    },
    {
      "cell_type": "code",
      "metadata": {
        "id": "HsA7KVcp4jAY"
      },
      "source": [
        "sampled_data = np.array(sampled_data)"
      ],
      "execution_count": 93,
      "outputs": []
    },
    {
      "cell_type": "code",
      "metadata": {
        "id": "FgCvAZub4jAY",
        "colab": {
          "base_uri": "https://localhost:8080/",
          "height": 269
        },
        "outputId": "2c4b0e47-690d-4bb8-a913-873d6acd6df8"
      },
      "source": [
        "plt.hist2d(sampled_data.T[0], sampled_data.T[1], bins=100, cmap='gray',range=[[-3, 3], [-2, 3]])\n",
        "plt.show()"
      ],
      "execution_count": 94,
      "outputs": [
        {
          "output_type": "display_data",
          "data": {
            "image/png": "[encoded data removed]",
            "text/plain": [
              "<Figure size 432x288 with 1 Axes>"
            ]
          },
          "metadata": {
            "tags": [],
            "needs_background": "light"
          }
        }
      ]
    },
    {
      "cell_type": "code",
      "metadata": {
        "id": "l5ur4fKF4jAY",
        "colab": {
          "base_uri": "https://localhost:8080/",
          "height": 265
        },
        "outputId": "f2f8b9a2-5162-46ac-c26a-498d21816f64"
      },
      "source": [
        "plt.hist2d(X_test.T[0], X_test.T[1], bins=100, cmap='gray')\n",
        "plt.show()"
      ],
      "execution_count": 95,
      "outputs": [
        {
          "output_type": "display_data",
          "data": {
            "image/png": "[encoded data removed]",
            "text/plain": [
              "<Figure size 432x288 with 1 Axes>"
            ]
          },
          "metadata": {
            "tags": [],
            "needs_background": "light"
          }
        }
      ]
    }
  ]
}