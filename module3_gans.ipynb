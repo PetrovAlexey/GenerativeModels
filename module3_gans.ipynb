{
  "nbformat": 4,
  "nbformat_minor": 0,
  "metadata": {
    "accelerator": "GPU",
    "colab": {
      "name": "module3_gans.ipynb",
      "provenance": [],
      "collapsed_sections": [],
      "include_colab_link": true
    },
    "kernelspec": {
      "display_name": "Python 3",
      "language": "python",
      "name": "python3"
    },
    "language_info": {
      "codemirror_mode": {
        "name": "ipython",
        "version": 3
      },
      "file_extension": ".py",
      "mimetype": "text/x-python",
      "name": "python",
      "nbconvert_exporter": "python",
      "pygments_lexer": "ipython3",
      "version": "3.7.3"
    },
    "widgets": {
      "application/vnd.jupyter.widget-state+json": {
        "6267a60e6b96428398884f5645cc3565": {
          "model_module": "@jupyter-widgets/controls",
          "model_name": "HBoxModel",
          "state": {
            "_view_name": "HBoxView",
            "_dom_classes": [],
            "_model_name": "HBoxModel",
            "_view_module": "@jupyter-widgets/controls",
            "_model_module_version": "1.5.0",
            "_view_count": null,
            "_view_module_version": "1.5.0",
            "box_style": "",
            "layout": "IPY_MODEL_f7307374db59446bab5effcb61f0a320",
            "_model_module": "@jupyter-widgets/controls",
            "children": [
              "IPY_MODEL_05310bc2d2214770a636ce03f4aa2faf",
              "IPY_MODEL_2bc72b6c88734e14893156bedc11b204"
            ]
          }
        },
        "f7307374db59446bab5effcb61f0a320": {
          "model_module": "@jupyter-widgets/base",
          "model_name": "LayoutModel",
          "state": {
            "_view_name": "LayoutView",
            "grid_template_rows": null,
            "right": null,
            "justify_content": null,
            "_view_module": "@jupyter-widgets/base",
            "overflow": null,
            "_model_module_version": "1.2.0",
            "_view_count": null,
            "flex_flow": null,
            "width": null,
            "min_width": null,
            "border": null,
            "align_items": null,
            "bottom": null,
            "_model_module": "@jupyter-widgets/base",
            "top": null,
            "grid_column": null,
            "overflow_y": null,
            "overflow_x": null,
            "grid_auto_flow": null,
            "grid_area": null,
            "grid_template_columns": null,
            "flex": null,
            "_model_name": "LayoutModel",
            "justify_items": null,
            "grid_row": null,
            "max_height": null,
            "align_content": null,
            "visibility": null,
            "align_self": null,
            "height": null,
            "min_height": null,
            "padding": null,
            "grid_auto_rows": null,
            "grid_gap": null,
            "max_width": null,
            "order": null,
            "_view_module_version": "1.2.0",
            "grid_template_areas": null,
            "object_position": null,
            "object_fit": null,
            "grid_auto_columns": null,
            "margin": null,
            "display": null,
            "left": null
          }
        },
        "05310bc2d2214770a636ce03f4aa2faf": {
          "model_module": "@jupyter-widgets/controls",
          "model_name": "FloatProgressModel",
          "state": {
            "_view_name": "ProgressView",
            "style": "IPY_MODEL_d4b7f0acd84b404398284ea7f09d2837",
            "_dom_classes": [],
            "description": "Epoch: 100%",
            "_model_name": "FloatProgressModel",
            "bar_style": "",
            "max": 25,
            "_view_module": "@jupyter-widgets/controls",
            "_model_module_version": "1.5.0",
            "value": 25,
            "_view_count": null,
            "_view_module_version": "1.5.0",
            "orientation": "horizontal",
            "min": 0,
            "description_tooltip": null,
            "_model_module": "@jupyter-widgets/controls",
            "layout": "IPY_MODEL_6848532eb1af47e3ae4a5e774c3e1a09"
          }
        },
        "2bc72b6c88734e14893156bedc11b204": {
          "model_module": "@jupyter-widgets/controls",
          "model_name": "HTMLModel",
          "state": {
            "_view_name": "HTMLView",
            "style": "IPY_MODEL_53b8acfc10904a6199dc3f86f1a196e6",
            "_dom_classes": [],
            "description": "",
            "_model_name": "HTMLModel",
            "placeholder": "​",
            "_view_module": "@jupyter-widgets/controls",
            "_model_module_version": "1.5.0",
            "value": " 25/25 [00:35&lt;00:00,  1.40s/it]",
            "_view_count": null,
            "_view_module_version": "1.5.0",
            "description_tooltip": null,
            "_model_module": "@jupyter-widgets/controls",
            "layout": "IPY_MODEL_343a1976718141088ec9fc1d38222746"
          }
        },
        "d4b7f0acd84b404398284ea7f09d2837": {
          "model_module": "@jupyter-widgets/controls",
          "model_name": "ProgressStyleModel",
          "state": {
            "_view_name": "StyleView",
            "_model_name": "ProgressStyleModel",
            "description_width": "initial",
            "_view_module": "@jupyter-widgets/base",
            "_model_module_version": "1.5.0",
            "_view_count": null,
            "_view_module_version": "1.2.0",
            "bar_color": null,
            "_model_module": "@jupyter-widgets/controls"
          }
        },
        "6848532eb1af47e3ae4a5e774c3e1a09": {
          "model_module": "@jupyter-widgets/base",
          "model_name": "LayoutModel",
          "state": {
            "_view_name": "LayoutView",
            "grid_template_rows": null,
            "right": null,
            "justify_content": null,
            "_view_module": "@jupyter-widgets/base",
            "overflow": null,
            "_model_module_version": "1.2.0",
            "_view_count": null,
            "flex_flow": null,
            "width": null,
            "min_width": null,
            "border": null,
            "align_items": null,
            "bottom": null,
            "_model_module": "@jupyter-widgets/base",
            "top": null,
            "grid_column": null,
            "overflow_y": null,
            "overflow_x": null,
            "grid_auto_flow": null,
            "grid_area": null,
            "grid_template_columns": null,
            "flex": null,
            "_model_name": "LayoutModel",
            "justify_items": null,
            "grid_row": null,
            "max_height": null,
            "align_content": null,
            "visibility": null,
            "align_self": null,
            "height": null,
            "min_height": null,
            "padding": null,
            "grid_auto_rows": null,
            "grid_gap": null,
            "max_width": null,
            "order": null,
            "_view_module_version": "1.2.0",
            "grid_template_areas": null,
            "object_position": null,
            "object_fit": null,
            "grid_auto_columns": null,
            "margin": null,
            "display": null,
            "left": null
          }
        },
        "53b8acfc10904a6199dc3f86f1a196e6": {
          "model_module": "@jupyter-widgets/controls",
          "model_name": "DescriptionStyleModel",
          "state": {
            "_view_name": "StyleView",
            "_model_name": "DescriptionStyleModel",
            "description_width": "",
            "_view_module": "@jupyter-widgets/base",
            "_model_module_version": "1.5.0",
            "_view_count": null,
            "_view_module_version": "1.2.0",
            "_model_module": "@jupyter-widgets/controls"
          }
        },
        "343a1976718141088ec9fc1d38222746": {
          "model_module": "@jupyter-widgets/base",
          "model_name": "LayoutModel",
          "state": {
            "_view_name": "LayoutView",
            "grid_template_rows": null,
            "right": null,
            "justify_content": null,
            "_view_module": "@jupyter-widgets/base",
            "overflow": null,
            "_model_module_version": "1.2.0",
            "_view_count": null,
            "flex_flow": null,
            "width": null,
            "min_width": null,
            "border": null,
            "align_items": null,
            "bottom": null,
            "_model_module": "@jupyter-widgets/base",
            "top": null,
            "grid_column": null,
            "overflow_y": null,
            "overflow_x": null,
            "grid_auto_flow": null,
            "grid_area": null,
            "grid_template_columns": null,
            "flex": null,
            "_model_name": "LayoutModel",
            "justify_items": null,
            "grid_row": null,
            "max_height": null,
            "align_content": null,
            "visibility": null,
            "align_self": null,
            "height": null,
            "min_height": null,
            "padding": null,
            "grid_auto_rows": null,
            "grid_gap": null,
            "max_width": null,
            "order": null,
            "_view_module_version": "1.2.0",
            "grid_template_areas": null,
            "object_position": null,
            "object_fit": null,
            "grid_auto_columns": null,
            "margin": null,
            "display": null,
            "left": null
          }
        },
        "1860bf97fae543ae8109287025f5dc43": {
          "model_module": "@jupyter-widgets/controls",
          "model_name": "HBoxModel",
          "state": {
            "_view_name": "HBoxView",
            "_dom_classes": [],
            "_model_name": "HBoxModel",
            "_view_module": "@jupyter-widgets/controls",
            "_model_module_version": "1.5.0",
            "_view_count": null,
            "_view_module_version": "1.5.0",
            "box_style": "",
            "layout": "IPY_MODEL_1fceb4a24d4c49a4924ac3143f142b07",
            "_model_module": "@jupyter-widgets/controls",
            "children": [
              "IPY_MODEL_8ca69077c2754900b0710a42dfdd965c",
              "IPY_MODEL_2ec76f20c2f6438a893e03077cd969b0"
            ]
          }
        },
        "1fceb4a24d4c49a4924ac3143f142b07": {
          "model_module": "@jupyter-widgets/base",
          "model_name": "LayoutModel",
          "state": {
            "_view_name": "LayoutView",
            "grid_template_rows": null,
            "right": null,
            "justify_content": null,
            "_view_module": "@jupyter-widgets/base",
            "overflow": null,
            "_model_module_version": "1.2.0",
            "_view_count": null,
            "flex_flow": null,
            "width": null,
            "min_width": null,
            "border": null,
            "align_items": null,
            "bottom": null,
            "_model_module": "@jupyter-widgets/base",
            "top": null,
            "grid_column": null,
            "overflow_y": null,
            "overflow_x": null,
            "grid_auto_flow": null,
            "grid_area": null,
            "grid_template_columns": null,
            "flex": null,
            "_model_name": "LayoutModel",
            "justify_items": null,
            "grid_row": null,
            "max_height": null,
            "align_content": null,
            "visibility": null,
            "align_self": null,
            "height": null,
            "min_height": null,
            "padding": null,
            "grid_auto_rows": null,
            "grid_gap": null,
            "max_width": null,
            "order": null,
            "_view_module_version": "1.2.0",
            "grid_template_areas": null,
            "object_position": null,
            "object_fit": null,
            "grid_auto_columns": null,
            "margin": null,
            "display": null,
            "left": null
          }
        },
        "8ca69077c2754900b0710a42dfdd965c": {
          "model_module": "@jupyter-widgets/controls",
          "model_name": "FloatProgressModel",
          "state": {
            "_view_name": "ProgressView",
            "style": "IPY_MODEL_edf38809c2054229a0cb39bd0a5d9031",
            "_dom_classes": [],
            "description": "Epoch: 100%",
            "_model_name": "FloatProgressModel",
            "bar_style": "",
            "max": 25,
            "_view_module": "@jupyter-widgets/controls",
            "_model_module_version": "1.5.0",
            "value": 25,
            "_view_count": null,
            "_view_module_version": "1.5.0",
            "orientation": "horizontal",
            "min": 0,
            "description_tooltip": null,
            "_model_module": "@jupyter-widgets/controls",
            "layout": "IPY_MODEL_533fccce28b844f3bdba716395890b6f"
          }
        },
        "2ec76f20c2f6438a893e03077cd969b0": {
          "model_module": "@jupyter-widgets/controls",
          "model_name": "HTMLModel",
          "state": {
            "_view_name": "HTMLView",
            "style": "IPY_MODEL_13d2f5d0b5d34b148fa51f0bd1dbd81f",
            "_dom_classes": [],
            "description": "",
            "_model_name": "HTMLModel",
            "placeholder": "​",
            "_view_module": "@jupyter-widgets/controls",
            "_model_module_version": "1.5.0",
            "value": " 25/25 [00:35&lt;00:00,  1.41s/it]",
            "_view_count": null,
            "_view_module_version": "1.5.0",
            "description_tooltip": null,
            "_model_module": "@jupyter-widgets/controls",
            "layout": "IPY_MODEL_4df9836c36894f6c91d148fe339e7196"
          }
        },
        "edf38809c2054229a0cb39bd0a5d9031": {
          "model_module": "@jupyter-widgets/controls",
          "model_name": "ProgressStyleModel",
          "state": {
            "_view_name": "StyleView",
            "_model_name": "ProgressStyleModel",
            "description_width": "initial",
            "_view_module": "@jupyter-widgets/base",
            "_model_module_version": "1.5.0",
            "_view_count": null,
            "_view_module_version": "1.2.0",
            "bar_color": null,
            "_model_module": "@jupyter-widgets/controls"
          }
        },
        "533fccce28b844f3bdba716395890b6f": {
          "model_module": "@jupyter-widgets/base",
          "model_name": "LayoutModel",
          "state": {
            "_view_name": "LayoutView",
            "grid_template_rows": null,
            "right": null,
            "justify_content": null,
            "_view_module": "@jupyter-widgets/base",
            "overflow": null,
            "_model_module_version": "1.2.0",
            "_view_count": null,
            "flex_flow": null,
            "width": null,
            "min_width": null,
            "border": null,
            "align_items": null,
            "bottom": null,
            "_model_module": "@jupyter-widgets/base",
            "top": null,
            "grid_column": null,
            "overflow_y": null,
            "overflow_x": null,
            "grid_auto_flow": null,
            "grid_area": null,
            "grid_template_columns": null,
            "flex": null,
            "_model_name": "LayoutModel",
            "justify_items": null,
            "grid_row": null,
            "max_height": null,
            "align_content": null,
            "visibility": null,
            "align_self": null,
            "height": null,
            "min_height": null,
            "padding": null,
            "grid_auto_rows": null,
            "grid_gap": null,
            "max_width": null,
            "order": null,
            "_view_module_version": "1.2.0",
            "grid_template_areas": null,
            "object_position": null,
            "object_fit": null,
            "grid_auto_columns": null,
            "margin": null,
            "display": null,
            "left": null
          }
        },
        "13d2f5d0b5d34b148fa51f0bd1dbd81f": {
          "model_module": "@jupyter-widgets/controls",
          "model_name": "DescriptionStyleModel",
          "state": {
            "_view_name": "StyleView",
            "_model_name": "DescriptionStyleModel",
            "description_width": "",
            "_view_module": "@jupyter-widgets/base",
            "_model_module_version": "1.5.0",
            "_view_count": null,
            "_view_module_version": "1.2.0",
            "_model_module": "@jupyter-widgets/controls"
          }
        },
        "4df9836c36894f6c91d148fe339e7196": {
          "model_module": "@jupyter-widgets/base",
          "model_name": "LayoutModel",
          "state": {
            "_view_name": "LayoutView",
            "grid_template_rows": null,
            "right": null,
            "justify_content": null,
            "_view_module": "@jupyter-widgets/base",
            "overflow": null,
            "_model_module_version": "1.2.0",
            "_view_count": null,
            "flex_flow": null,
            "width": null,
            "min_width": null,
            "border": null,
            "align_items": null,
            "bottom": null,
            "_model_module": "@jupyter-widgets/base",
            "top": null,
            "grid_column": null,
            "overflow_y": null,
            "overflow_x": null,
            "grid_auto_flow": null,
            "grid_area": null,
            "grid_template_columns": null,
            "flex": null,
            "_model_name": "LayoutModel",
            "justify_items": null,
            "grid_row": null,
            "max_height": null,
            "align_content": null,
            "visibility": null,
            "align_self": null,
            "height": null,
            "min_height": null,
            "padding": null,
            "grid_auto_rows": null,
            "grid_gap": null,
            "max_width": null,
            "order": null,
            "_view_module_version": "1.2.0",
            "grid_template_areas": null,
            "object_position": null,
            "object_fit": null,
            "grid_auto_columns": null,
            "margin": null,
            "display": null,
            "left": null
          }
        },
        "ad1abb3f8c4c41648585ec5601d696d8": {
          "model_module": "@jupyter-widgets/controls",
          "model_name": "HBoxModel",
          "state": {
            "_view_name": "HBoxView",
            "_dom_classes": [],
            "_model_name": "HBoxModel",
            "_view_module": "@jupyter-widgets/controls",
            "_model_module_version": "1.5.0",
            "_view_count": null,
            "_view_module_version": "1.5.0",
            "box_style": "",
            "layout": "IPY_MODEL_13c260528a5c4aaa8e687078d81268a6",
            "_model_module": "@jupyter-widgets/controls",
            "children": [
              "IPY_MODEL_72beff3aa1114d20854afac58cfdf46b",
              "IPY_MODEL_0b4b4fd0260648e1ad708fe7b983bbd4"
            ]
          }
        },
        "13c260528a5c4aaa8e687078d81268a6": {
          "model_module": "@jupyter-widgets/base",
          "model_name": "LayoutModel",
          "state": {
            "_view_name": "LayoutView",
            "grid_template_rows": null,
            "right": null,
            "justify_content": null,
            "_view_module": "@jupyter-widgets/base",
            "overflow": null,
            "_model_module_version": "1.2.0",
            "_view_count": null,
            "flex_flow": null,
            "width": null,
            "min_width": null,
            "border": null,
            "align_items": null,
            "bottom": null,
            "_model_module": "@jupyter-widgets/base",
            "top": null,
            "grid_column": null,
            "overflow_y": null,
            "overflow_x": null,
            "grid_auto_flow": null,
            "grid_area": null,
            "grid_template_columns": null,
            "flex": null,
            "_model_name": "LayoutModel",
            "justify_items": null,
            "grid_row": null,
            "max_height": null,
            "align_content": null,
            "visibility": null,
            "align_self": null,
            "height": null,
            "min_height": null,
            "padding": null,
            "grid_auto_rows": null,
            "grid_gap": null,
            "max_width": null,
            "order": null,
            "_view_module_version": "1.2.0",
            "grid_template_areas": null,
            "object_position": null,
            "object_fit": null,
            "grid_auto_columns": null,
            "margin": null,
            "display": null,
            "left": null
          }
        },
        "72beff3aa1114d20854afac58cfdf46b": {
          "model_module": "@jupyter-widgets/controls",
          "model_name": "FloatProgressModel",
          "state": {
            "_view_name": "ProgressView",
            "style": "IPY_MODEL_1955ed6be3fe4639bb934b6cdd85acdf",
            "_dom_classes": [],
            "description": "",
            "_model_name": "FloatProgressModel",
            "bar_style": "success",
            "max": 170498071,
            "_view_module": "@jupyter-widgets/controls",
            "_model_module_version": "1.5.0",
            "value": 170498071,
            "_view_count": null,
            "_view_module_version": "1.5.0",
            "orientation": "horizontal",
            "min": 0,
            "description_tooltip": null,
            "_model_module": "@jupyter-widgets/controls",
            "layout": "IPY_MODEL_169c06ad5d174dfb851c0b537cdd137b"
          }
        },
        "0b4b4fd0260648e1ad708fe7b983bbd4": {
          "model_module": "@jupyter-widgets/controls",
          "model_name": "HTMLModel",
          "state": {
            "_view_name": "HTMLView",
            "style": "IPY_MODEL_8aa08e502c0246c49a1bd299a0414413",
            "_dom_classes": [],
            "description": "",
            "_model_name": "HTMLModel",
            "placeholder": "​",
            "_view_module": "@jupyter-widgets/controls",
            "_model_module_version": "1.5.0",
            "value": " 170499072/? [00:04&lt;00:00, 36619097.28it/s]",
            "_view_count": null,
            "_view_module_version": "1.5.0",
            "description_tooltip": null,
            "_model_module": "@jupyter-widgets/controls",
            "layout": "IPY_MODEL_5461f062f6c44e38940b9ba37fdf78b8"
          }
        },
        "1955ed6be3fe4639bb934b6cdd85acdf": {
          "model_module": "@jupyter-widgets/controls",
          "model_name": "ProgressStyleModel",
          "state": {
            "_view_name": "StyleView",
            "_model_name": "ProgressStyleModel",
            "description_width": "initial",
            "_view_module": "@jupyter-widgets/base",
            "_model_module_version": "1.5.0",
            "_view_count": null,
            "_view_module_version": "1.2.0",
            "bar_color": null,
            "_model_module": "@jupyter-widgets/controls"
          }
        },
        "169c06ad5d174dfb851c0b537cdd137b": {
          "model_module": "@jupyter-widgets/base",
          "model_name": "LayoutModel",
          "state": {
            "_view_name": "LayoutView",
            "grid_template_rows": null,
            "right": null,
            "justify_content": null,
            "_view_module": "@jupyter-widgets/base",
            "overflow": null,
            "_model_module_version": "1.2.0",
            "_view_count": null,
            "flex_flow": null,
            "width": null,
            "min_width": null,
            "border": null,
            "align_items": null,
            "bottom": null,
            "_model_module": "@jupyter-widgets/base",
            "top": null,
            "grid_column": null,
            "overflow_y": null,
            "overflow_x": null,
            "grid_auto_flow": null,
            "grid_area": null,
            "grid_template_columns": null,
            "flex": null,
            "_model_name": "LayoutModel",
            "justify_items": null,
            "grid_row": null,
            "max_height": null,
            "align_content": null,
            "visibility": null,
            "align_self": null,
            "height": null,
            "min_height": null,
            "padding": null,
            "grid_auto_rows": null,
            "grid_gap": null,
            "max_width": null,
            "order": null,
            "_view_module_version": "1.2.0",
            "grid_template_areas": null,
            "object_position": null,
            "object_fit": null,
            "grid_auto_columns": null,
            "margin": null,
            "display": null,
            "left": null
          }
        },
        "8aa08e502c0246c49a1bd299a0414413": {
          "model_module": "@jupyter-widgets/controls",
          "model_name": "DescriptionStyleModel",
          "state": {
            "_view_name": "StyleView",
            "_model_name": "DescriptionStyleModel",
            "description_width": "",
            "_view_module": "@jupyter-widgets/base",
            "_model_module_version": "1.5.0",
            "_view_count": null,
            "_view_module_version": "1.2.0",
            "_model_module": "@jupyter-widgets/controls"
          }
        },
        "5461f062f6c44e38940b9ba37fdf78b8": {
          "model_module": "@jupyter-widgets/base",
          "model_name": "LayoutModel",
          "state": {
            "_view_name": "LayoutView",
            "grid_template_rows": null,
            "right": null,
            "justify_content": null,
            "_view_module": "@jupyter-widgets/base",
            "overflow": null,
            "_model_module_version": "1.2.0",
            "_view_count": null,
            "flex_flow": null,
            "width": null,
            "min_width": null,
            "border": null,
            "align_items": null,
            "bottom": null,
            "_model_module": "@jupyter-widgets/base",
            "top": null,
            "grid_column": null,
            "overflow_y": null,
            "overflow_x": null,
            "grid_auto_flow": null,
            "grid_area": null,
            "grid_template_columns": null,
            "flex": null,
            "_model_name": "LayoutModel",
            "justify_items": null,
            "grid_row": null,
            "max_height": null,
            "align_content": null,
            "visibility": null,
            "align_self": null,
            "height": null,
            "min_height": null,
            "padding": null,
            "grid_auto_rows": null,
            "grid_gap": null,
            "max_width": null,
            "order": null,
            "_view_module_version": "1.2.0",
            "grid_template_areas": null,
            "object_position": null,
            "object_fit": null,
            "grid_auto_columns": null,
            "margin": null,
            "display": null,
            "left": null
          }
        },
        "1b805b6f0bba407aa113ae7affa2ba86": {
          "model_module": "@jupyter-widgets/controls",
          "model_name": "HBoxModel",
          "state": {
            "_view_name": "HBoxView",
            "_dom_classes": [],
            "_model_name": "HBoxModel",
            "_view_module": "@jupyter-widgets/controls",
            "_model_module_version": "1.5.0",
            "_view_count": null,
            "_view_module_version": "1.5.0",
            "box_style": "",
            "layout": "IPY_MODEL_b646e9cc7b5845d790ec19368a28b5ad",
            "_model_module": "@jupyter-widgets/controls",
            "children": [
              "IPY_MODEL_b7ddc65e4e6b42fa9fde9e80016342fa",
              "IPY_MODEL_1608c5c6d74b44278946072cf76e7c3c"
            ]
          }
        },
        "b646e9cc7b5845d790ec19368a28b5ad": {
          "model_module": "@jupyter-widgets/base",
          "model_name": "LayoutModel",
          "state": {
            "_view_name": "LayoutView",
            "grid_template_rows": null,
            "right": null,
            "justify_content": null,
            "_view_module": "@jupyter-widgets/base",
            "overflow": null,
            "_model_module_version": "1.2.0",
            "_view_count": null,
            "flex_flow": null,
            "width": null,
            "min_width": null,
            "border": null,
            "align_items": null,
            "bottom": null,
            "_model_module": "@jupyter-widgets/base",
            "top": null,
            "grid_column": null,
            "overflow_y": null,
            "overflow_x": null,
            "grid_auto_flow": null,
            "grid_area": null,
            "grid_template_columns": null,
            "flex": null,
            "_model_name": "LayoutModel",
            "justify_items": null,
            "grid_row": null,
            "max_height": null,
            "align_content": null,
            "visibility": null,
            "align_self": null,
            "height": null,
            "min_height": null,
            "padding": null,
            "grid_auto_rows": null,
            "grid_gap": null,
            "max_width": null,
            "order": null,
            "_view_module_version": "1.2.0",
            "grid_template_areas": null,
            "object_position": null,
            "object_fit": null,
            "grid_auto_columns": null,
            "margin": null,
            "display": null,
            "left": null
          }
        },
        "b7ddc65e4e6b42fa9fde9e80016342fa": {
          "model_module": "@jupyter-widgets/controls",
          "model_name": "FloatProgressModel",
          "state": {
            "_view_name": "ProgressView",
            "style": "IPY_MODEL_2913f0475de342d1b253ebf86de22679",
            "_dom_classes": [],
            "description": "100%",
            "_model_name": "FloatProgressModel",
            "bar_style": "success",
            "max": 52147035,
            "_view_module": "@jupyter-widgets/controls",
            "_model_module_version": "1.5.0",
            "value": 52147035,
            "_view_count": null,
            "_view_module_version": "1.5.0",
            "orientation": "horizontal",
            "min": 0,
            "description_tooltip": null,
            "_model_module": "@jupyter-widgets/controls",
            "layout": "IPY_MODEL_beda3e7739604b84aa442df07ab48986"
          }
        },
        "1608c5c6d74b44278946072cf76e7c3c": {
          "model_module": "@jupyter-widgets/controls",
          "model_name": "HTMLModel",
          "state": {
            "_view_name": "HTMLView",
            "style": "IPY_MODEL_df713d40c6f54e0c8e7b673b5f85df94",
            "_dom_classes": [],
            "description": "",
            "_model_name": "HTMLModel",
            "placeholder": "​",
            "_view_module": "@jupyter-widgets/controls",
            "_model_module_version": "1.5.0",
            "value": " 49.7M/49.7M [00:00&lt;00:00, 66.3MB/s]",
            "_view_count": null,
            "_view_module_version": "1.5.0",
            "description_tooltip": null,
            "_model_module": "@jupyter-widgets/controls",
            "layout": "IPY_MODEL_2d5d524d52774d6c933688da708c093b"
          }
        },
        "2913f0475de342d1b253ebf86de22679": {
          "model_module": "@jupyter-widgets/controls",
          "model_name": "ProgressStyleModel",
          "state": {
            "_view_name": "StyleView",
            "_model_name": "ProgressStyleModel",
            "description_width": "initial",
            "_view_module": "@jupyter-widgets/base",
            "_model_module_version": "1.5.0",
            "_view_count": null,
            "_view_module_version": "1.2.0",
            "bar_color": null,
            "_model_module": "@jupyter-widgets/controls"
          }
        },
        "beda3e7739604b84aa442df07ab48986": {
          "model_module": "@jupyter-widgets/base",
          "model_name": "LayoutModel",
          "state": {
            "_view_name": "LayoutView",
            "grid_template_rows": null,
            "right": null,
            "justify_content": null,
            "_view_module": "@jupyter-widgets/base",
            "overflow": null,
            "_model_module_version": "1.2.0",
            "_view_count": null,
            "flex_flow": null,
            "width": null,
            "min_width": null,
            "border": null,
            "align_items": null,
            "bottom": null,
            "_model_module": "@jupyter-widgets/base",
            "top": null,
            "grid_column": null,
            "overflow_y": null,
            "overflow_x": null,
            "grid_auto_flow": null,
            "grid_area": null,
            "grid_template_columns": null,
            "flex": null,
            "_model_name": "LayoutModel",
            "justify_items": null,
            "grid_row": null,
            "max_height": null,
            "align_content": null,
            "visibility": null,
            "align_self": null,
            "height": null,
            "min_height": null,
            "padding": null,
            "grid_auto_rows": null,
            "grid_gap": null,
            "max_width": null,
            "order": null,
            "_view_module_version": "1.2.0",
            "grid_template_areas": null,
            "object_position": null,
            "object_fit": null,
            "grid_auto_columns": null,
            "margin": null,
            "display": null,
            "left": null
          }
        },
        "df713d40c6f54e0c8e7b673b5f85df94": {
          "model_module": "@jupyter-widgets/controls",
          "model_name": "DescriptionStyleModel",
          "state": {
            "_view_name": "StyleView",
            "_model_name": "DescriptionStyleModel",
            "description_width": "",
            "_view_module": "@jupyter-widgets/base",
            "_model_module_version": "1.5.0",
            "_view_count": null,
            "_view_module_version": "1.2.0",
            "_model_module": "@jupyter-widgets/controls"
          }
        },
        "2d5d524d52774d6c933688da708c093b": {
          "model_module": "@jupyter-widgets/base",
          "model_name": "LayoutModel",
          "state": {
            "_view_name": "LayoutView",
            "grid_template_rows": null,
            "right": null,
            "justify_content": null,
            "_view_module": "@jupyter-widgets/base",
            "overflow": null,
            "_model_module_version": "1.2.0",
            "_view_count": null,
            "flex_flow": null,
            "width": null,
            "min_width": null,
            "border": null,
            "align_items": null,
            "bottom": null,
            "_model_module": "@jupyter-widgets/base",
            "top": null,
            "grid_column": null,
            "overflow_y": null,
            "overflow_x": null,
            "grid_auto_flow": null,
            "grid_area": null,
            "grid_template_columns": null,
            "flex": null,
            "_model_name": "LayoutModel",
            "justify_items": null,
            "grid_row": null,
            "max_height": null,
            "align_content": null,
            "visibility": null,
            "align_self": null,
            "height": null,
            "min_height": null,
            "padding": null,
            "grid_auto_rows": null,
            "grid_gap": null,
            "max_width": null,
            "order": null,
            "_view_module_version": "1.2.0",
            "grid_template_areas": null,
            "object_position": null,
            "object_fit": null,
            "grid_auto_columns": null,
            "margin": null,
            "display": null,
            "left": null
          }
        },
        "3c82395e57044ecd97bef5d4adc26141": {
          "model_module": "@jupyter-widgets/controls",
          "model_name": "HBoxModel",
          "state": {
            "_view_name": "HBoxView",
            "_dom_classes": [],
            "_model_name": "HBoxModel",
            "_view_module": "@jupyter-widgets/controls",
            "_model_module_version": "1.5.0",
            "_view_count": null,
            "_view_module_version": "1.5.0",
            "box_style": "",
            "layout": "IPY_MODEL_864edfeb6bfc4d118251c2b5a0804125",
            "_model_module": "@jupyter-widgets/controls",
            "children": [
              "IPY_MODEL_73a829f34f93451fac332f17319bca07",
              "IPY_MODEL_bb8e54299382488f800fdf57ffe07bfe"
            ]
          }
        },
        "864edfeb6bfc4d118251c2b5a0804125": {
          "model_module": "@jupyter-widgets/base",
          "model_name": "LayoutModel",
          "state": {
            "_view_name": "LayoutView",
            "grid_template_rows": null,
            "right": null,
            "justify_content": null,
            "_view_module": "@jupyter-widgets/base",
            "overflow": null,
            "_model_module_version": "1.2.0",
            "_view_count": null,
            "flex_flow": null,
            "width": null,
            "min_width": null,
            "border": null,
            "align_items": null,
            "bottom": null,
            "_model_module": "@jupyter-widgets/base",
            "top": null,
            "grid_column": null,
            "overflow_y": null,
            "overflow_x": null,
            "grid_auto_flow": null,
            "grid_area": null,
            "grid_template_columns": null,
            "flex": null,
            "_model_name": "LayoutModel",
            "justify_items": null,
            "grid_row": null,
            "max_height": null,
            "align_content": null,
            "visibility": null,
            "align_self": null,
            "height": null,
            "min_height": null,
            "padding": null,
            "grid_auto_rows": null,
            "grid_gap": null,
            "max_width": null,
            "order": null,
            "_view_module_version": "1.2.0",
            "grid_template_areas": null,
            "object_position": null,
            "object_fit": null,
            "grid_auto_columns": null,
            "margin": null,
            "display": null,
            "left": null
          }
        },
        "73a829f34f93451fac332f17319bca07": {
          "model_module": "@jupyter-widgets/controls",
          "model_name": "FloatProgressModel",
          "state": {
            "_view_name": "ProgressView",
            "style": "IPY_MODEL_b198a20e09bc426c92285ef74c356522",
            "_dom_classes": [],
            "description": "",
            "_model_name": "FloatProgressModel",
            "bar_style": "success",
            "max": 9912422,
            "_view_module": "@jupyter-widgets/controls",
            "_model_module_version": "1.5.0",
            "value": 9912422,
            "_view_count": null,
            "_view_module_version": "1.5.0",
            "orientation": "horizontal",
            "min": 0,
            "description_tooltip": null,
            "_model_module": "@jupyter-widgets/controls",
            "layout": "IPY_MODEL_6446a9dfd4ef4986b9d8b0fa9a1cc004"
          }
        },
        "bb8e54299382488f800fdf57ffe07bfe": {
          "model_module": "@jupyter-widgets/controls",
          "model_name": "HTMLModel",
          "state": {
            "_view_name": "HTMLView",
            "style": "IPY_MODEL_54b4ff2ba33c43b8a1e8da896d0ab056",
            "_dom_classes": [],
            "description": "",
            "_model_name": "HTMLModel",
            "placeholder": "​",
            "_view_module": "@jupyter-widgets/controls",
            "_model_module_version": "1.5.0",
            "value": " 9913344/? [00:29&lt;00:00, 341111.99it/s]",
            "_view_count": null,
            "_view_module_version": "1.5.0",
            "description_tooltip": null,
            "_model_module": "@jupyter-widgets/controls",
            "layout": "IPY_MODEL_05055d30dad54c75a6c585bc21b09a2f"
          }
        },
        "b198a20e09bc426c92285ef74c356522": {
          "model_module": "@jupyter-widgets/controls",
          "model_name": "ProgressStyleModel",
          "state": {
            "_view_name": "StyleView",
            "_model_name": "ProgressStyleModel",
            "description_width": "initial",
            "_view_module": "@jupyter-widgets/base",
            "_model_module_version": "1.5.0",
            "_view_count": null,
            "_view_module_version": "1.2.0",
            "bar_color": null,
            "_model_module": "@jupyter-widgets/controls"
          }
        },
        "6446a9dfd4ef4986b9d8b0fa9a1cc004": {
          "model_module": "@jupyter-widgets/base",
          "model_name": "LayoutModel",
          "state": {
            "_view_name": "LayoutView",
            "grid_template_rows": null,
            "right": null,
            "justify_content": null,
            "_view_module": "@jupyter-widgets/base",
            "overflow": null,
            "_model_module_version": "1.2.0",
            "_view_count": null,
            "flex_flow": null,
            "width": null,
            "min_width": null,
            "border": null,
            "align_items": null,
            "bottom": null,
            "_model_module": "@jupyter-widgets/base",
            "top": null,
            "grid_column": null,
            "overflow_y": null,
            "overflow_x": null,
            "grid_auto_flow": null,
            "grid_area": null,
            "grid_template_columns": null,
            "flex": null,
            "_model_name": "LayoutModel",
            "justify_items": null,
            "grid_row": null,
            "max_height": null,
            "align_content": null,
            "visibility": null,
            "align_self": null,
            "height": null,
            "min_height": null,
            "padding": null,
            "grid_auto_rows": null,
            "grid_gap": null,
            "max_width": null,
            "order": null,
            "_view_module_version": "1.2.0",
            "grid_template_areas": null,
            "object_position": null,
            "object_fit": null,
            "grid_auto_columns": null,
            "margin": null,
            "display": null,
            "left": null
          }
        },
        "54b4ff2ba33c43b8a1e8da896d0ab056": {
          "model_module": "@jupyter-widgets/controls",
          "model_name": "DescriptionStyleModel",
          "state": {
            "_view_name": "StyleView",
            "_model_name": "DescriptionStyleModel",
            "description_width": "",
            "_view_module": "@jupyter-widgets/base",
            "_model_module_version": "1.5.0",
            "_view_count": null,
            "_view_module_version": "1.2.0",
            "_model_module": "@jupyter-widgets/controls"
          }
        },
        "05055d30dad54c75a6c585bc21b09a2f": {
          "model_module": "@jupyter-widgets/base",
          "model_name": "LayoutModel",
          "state": {
            "_view_name": "LayoutView",
            "grid_template_rows": null,
            "right": null,
            "justify_content": null,
            "_view_module": "@jupyter-widgets/base",
            "overflow": null,
            "_model_module_version": "1.2.0",
            "_view_count": null,
            "flex_flow": null,
            "width": null,
            "min_width": null,
            "border": null,
            "align_items": null,
            "bottom": null,
            "_model_module": "@jupyter-widgets/base",
            "top": null,
            "grid_column": null,
            "overflow_y": null,
            "overflow_x": null,
            "grid_auto_flow": null,
            "grid_area": null,
            "grid_template_columns": null,
            "flex": null,
            "_model_name": "LayoutModel",
            "justify_items": null,
            "grid_row": null,
            "max_height": null,
            "align_content": null,
            "visibility": null,
            "align_self": null,
            "height": null,
            "min_height": null,
            "padding": null,
            "grid_auto_rows": null,
            "grid_gap": null,
            "max_width": null,
            "order": null,
            "_view_module_version": "1.2.0",
            "grid_template_areas": null,
            "object_position": null,
            "object_fit": null,
            "grid_auto_columns": null,
            "margin": null,
            "display": null,
            "left": null
          }
        },
        "d26c0e6dd7b9412e8100045246d383b6": {
          "model_module": "@jupyter-widgets/controls",
          "model_name": "HBoxModel",
          "state": {
            "_view_name": "HBoxView",
            "_dom_classes": [],
            "_model_name": "HBoxModel",
            "_view_module": "@jupyter-widgets/controls",
            "_model_module_version": "1.5.0",
            "_view_count": null,
            "_view_module_version": "1.5.0",
            "box_style": "",
            "layout": "IPY_MODEL_ecd749cac5944081b6a82a2043ac27ab",
            "_model_module": "@jupyter-widgets/controls",
            "children": [
              "IPY_MODEL_9ac9e60b9094434db15022059e6cf78b",
              "IPY_MODEL_4fd6eb012bab4bf695ffe4ddbb0c89b3"
            ]
          }
        },
        "ecd749cac5944081b6a82a2043ac27ab": {
          "model_module": "@jupyter-widgets/base",
          "model_name": "LayoutModel",
          "state": {
            "_view_name": "LayoutView",
            "grid_template_rows": null,
            "right": null,
            "justify_content": null,
            "_view_module": "@jupyter-widgets/base",
            "overflow": null,
            "_model_module_version": "1.2.0",
            "_view_count": null,
            "flex_flow": null,
            "width": null,
            "min_width": null,
            "border": null,
            "align_items": null,
            "bottom": null,
            "_model_module": "@jupyter-widgets/base",
            "top": null,
            "grid_column": null,
            "overflow_y": null,
            "overflow_x": null,
            "grid_auto_flow": null,
            "grid_area": null,
            "grid_template_columns": null,
            "flex": null,
            "_model_name": "LayoutModel",
            "justify_items": null,
            "grid_row": null,
            "max_height": null,
            "align_content": null,
            "visibility": null,
            "align_self": null,
            "height": null,
            "min_height": null,
            "padding": null,
            "grid_auto_rows": null,
            "grid_gap": null,
            "max_width": null,
            "order": null,
            "_view_module_version": "1.2.0",
            "grid_template_areas": null,
            "object_position": null,
            "object_fit": null,
            "grid_auto_columns": null,
            "margin": null,
            "display": null,
            "left": null
          }
        },
        "9ac9e60b9094434db15022059e6cf78b": {
          "model_module": "@jupyter-widgets/controls",
          "model_name": "FloatProgressModel",
          "state": {
            "_view_name": "ProgressView",
            "style": "IPY_MODEL_b290751426bd47eb8495c09225520f94",
            "_dom_classes": [],
            "description": "",
            "_model_name": "FloatProgressModel",
            "bar_style": "success",
            "max": 28881,
            "_view_module": "@jupyter-widgets/controls",
            "_model_module_version": "1.5.0",
            "value": 28881,
            "_view_count": null,
            "_view_module_version": "1.5.0",
            "orientation": "horizontal",
            "min": 0,
            "description_tooltip": null,
            "_model_module": "@jupyter-widgets/controls",
            "layout": "IPY_MODEL_1973bdaee6724902b5bf7b438c1bd91e"
          }
        },
        "4fd6eb012bab4bf695ffe4ddbb0c89b3": {
          "model_module": "@jupyter-widgets/controls",
          "model_name": "HTMLModel",
          "state": {
            "_view_name": "HTMLView",
            "style": "IPY_MODEL_4dfde729031345498b9b898c2d20df8f",
            "_dom_classes": [],
            "description": "",
            "_model_name": "HTMLModel",
            "placeholder": "​",
            "_view_module": "@jupyter-widgets/controls",
            "_model_module_version": "1.5.0",
            "value": " 29696/? [00:00&lt;00:00, 260233.61it/s]",
            "_view_count": null,
            "_view_module_version": "1.5.0",
            "description_tooltip": null,
            "_model_module": "@jupyter-widgets/controls",
            "layout": "IPY_MODEL_811d630668b14f088d985b3ca018279a"
          }
        },
        "b290751426bd47eb8495c09225520f94": {
          "model_module": "@jupyter-widgets/controls",
          "model_name": "ProgressStyleModel",
          "state": {
            "_view_name": "StyleView",
            "_model_name": "ProgressStyleModel",
            "description_width": "initial",
            "_view_module": "@jupyter-widgets/base",
            "_model_module_version": "1.5.0",
            "_view_count": null,
            "_view_module_version": "1.2.0",
            "bar_color": null,
            "_model_module": "@jupyter-widgets/controls"
          }
        },
        "1973bdaee6724902b5bf7b438c1bd91e": {
          "model_module": "@jupyter-widgets/base",
          "model_name": "LayoutModel",
          "state": {
            "_view_name": "LayoutView",
            "grid_template_rows": null,
            "right": null,
            "justify_content": null,
            "_view_module": "@jupyter-widgets/base",
            "overflow": null,
            "_model_module_version": "1.2.0",
            "_view_count": null,
            "flex_flow": null,
            "width": null,
            "min_width": null,
            "border": null,
            "align_items": null,
            "bottom": null,
            "_model_module": "@jupyter-widgets/base",
            "top": null,
            "grid_column": null,
            "overflow_y": null,
            "overflow_x": null,
            "grid_auto_flow": null,
            "grid_area": null,
            "grid_template_columns": null,
            "flex": null,
            "_model_name": "LayoutModel",
            "justify_items": null,
            "grid_row": null,
            "max_height": null,
            "align_content": null,
            "visibility": null,
            "align_self": null,
            "height": null,
            "min_height": null,
            "padding": null,
            "grid_auto_rows": null,
            "grid_gap": null,
            "max_width": null,
            "order": null,
            "_view_module_version": "1.2.0",
            "grid_template_areas": null,
            "object_position": null,
            "object_fit": null,
            "grid_auto_columns": null,
            "margin": null,
            "display": null,
            "left": null
          }
        },
        "4dfde729031345498b9b898c2d20df8f": {
          "model_module": "@jupyter-widgets/controls",
          "model_name": "DescriptionStyleModel",
          "state": {
            "_view_name": "StyleView",
            "_model_name": "DescriptionStyleModel",
            "description_width": "",
            "_view_module": "@jupyter-widgets/base",
            "_model_module_version": "1.5.0",
            "_view_count": null,
            "_view_module_version": "1.2.0",
            "_model_module": "@jupyter-widgets/controls"
          }
        },
        "811d630668b14f088d985b3ca018279a": {
          "model_module": "@jupyter-widgets/base",
          "model_name": "LayoutModel",
          "state": {
            "_view_name": "LayoutView",
            "grid_template_rows": null,
            "right": null,
            "justify_content": null,
            "_view_module": "@jupyter-widgets/base",
            "overflow": null,
            "_model_module_version": "1.2.0",
            "_view_count": null,
            "flex_flow": null,
            "width": null,
            "min_width": null,
            "border": null,
            "align_items": null,
            "bottom": null,
            "_model_module": "@jupyter-widgets/base",
            "top": null,
            "grid_column": null,
            "overflow_y": null,
            "overflow_x": null,
            "grid_auto_flow": null,
            "grid_area": null,
            "grid_template_columns": null,
            "flex": null,
            "_model_name": "LayoutModel",
            "justify_items": null,
            "grid_row": null,
            "max_height": null,
            "align_content": null,
            "visibility": null,
            "align_self": null,
            "height": null,
            "min_height": null,
            "padding": null,
            "grid_auto_rows": null,
            "grid_gap": null,
            "max_width": null,
            "order": null,
            "_view_module_version": "1.2.0",
            "grid_template_areas": null,
            "object_position": null,
            "object_fit": null,
            "grid_auto_columns": null,
            "margin": null,
            "display": null,
            "left": null
          }
        },
        "365b2ae6ba004c9c8dab39f093575953": {
          "model_module": "@jupyter-widgets/controls",
          "model_name": "HBoxModel",
          "state": {
            "_view_name": "HBoxView",
            "_dom_classes": [],
            "_model_name": "HBoxModel",
            "_view_module": "@jupyter-widgets/controls",
            "_model_module_version": "1.5.0",
            "_view_count": null,
            "_view_module_version": "1.5.0",
            "box_style": "",
            "layout": "IPY_MODEL_c9782a718a344d739f35935f60087971",
            "_model_module": "@jupyter-widgets/controls",
            "children": [
              "IPY_MODEL_768aa8963da443fdbd01d67493b741e5",
              "IPY_MODEL_196d0fcfe48745348a525f402e658567"
            ]
          }
        },
        "c9782a718a344d739f35935f60087971": {
          "model_module": "@jupyter-widgets/base",
          "model_name": "LayoutModel",
          "state": {
            "_view_name": "LayoutView",
            "grid_template_rows": null,
            "right": null,
            "justify_content": null,
            "_view_module": "@jupyter-widgets/base",
            "overflow": null,
            "_model_module_version": "1.2.0",
            "_view_count": null,
            "flex_flow": null,
            "width": null,
            "min_width": null,
            "border": null,
            "align_items": null,
            "bottom": null,
            "_model_module": "@jupyter-widgets/base",
            "top": null,
            "grid_column": null,
            "overflow_y": null,
            "overflow_x": null,
            "grid_auto_flow": null,
            "grid_area": null,
            "grid_template_columns": null,
            "flex": null,
            "_model_name": "LayoutModel",
            "justify_items": null,
            "grid_row": null,
            "max_height": null,
            "align_content": null,
            "visibility": null,
            "align_self": null,
            "height": null,
            "min_height": null,
            "padding": null,
            "grid_auto_rows": null,
            "grid_gap": null,
            "max_width": null,
            "order": null,
            "_view_module_version": "1.2.0",
            "grid_template_areas": null,
            "object_position": null,
            "object_fit": null,
            "grid_auto_columns": null,
            "margin": null,
            "display": null,
            "left": null
          }
        },
        "768aa8963da443fdbd01d67493b741e5": {
          "model_module": "@jupyter-widgets/controls",
          "model_name": "FloatProgressModel",
          "state": {
            "_view_name": "ProgressView",
            "style": "IPY_MODEL_820632c9ed4947a0ba0b7a7c82535610",
            "_dom_classes": [],
            "description": "",
            "_model_name": "FloatProgressModel",
            "bar_style": "success",
            "max": 1648877,
            "_view_module": "@jupyter-widgets/controls",
            "_model_module_version": "1.5.0",
            "value": 1648877,
            "_view_count": null,
            "_view_module_version": "1.5.0",
            "orientation": "horizontal",
            "min": 0,
            "description_tooltip": null,
            "_model_module": "@jupyter-widgets/controls",
            "layout": "IPY_MODEL_33640f4d8ac64080a97ed497f6f32605"
          }
        },
        "196d0fcfe48745348a525f402e658567": {
          "model_module": "@jupyter-widgets/controls",
          "model_name": "HTMLModel",
          "state": {
            "_view_name": "HTMLView",
            "style": "IPY_MODEL_3f632cb2b58741009c48669e8c8906c7",
            "_dom_classes": [],
            "description": "",
            "_model_name": "HTMLModel",
            "placeholder": "​",
            "_view_module": "@jupyter-widgets/controls",
            "_model_module_version": "1.5.0",
            "value": " 1649664/? [00:10&lt;00:00, 164055.80it/s]",
            "_view_count": null,
            "_view_module_version": "1.5.0",
            "description_tooltip": null,
            "_model_module": "@jupyter-widgets/controls",
            "layout": "IPY_MODEL_5262dc19d38742a195f4a62fe9bdfe78"
          }
        },
        "820632c9ed4947a0ba0b7a7c82535610": {
          "model_module": "@jupyter-widgets/controls",
          "model_name": "ProgressStyleModel",
          "state": {
            "_view_name": "StyleView",
            "_model_name": "ProgressStyleModel",
            "description_width": "initial",
            "_view_module": "@jupyter-widgets/base",
            "_model_module_version": "1.5.0",
            "_view_count": null,
            "_view_module_version": "1.2.0",
            "bar_color": null,
            "_model_module": "@jupyter-widgets/controls"
          }
        },
        "33640f4d8ac64080a97ed497f6f32605": {
          "model_module": "@jupyter-widgets/base",
          "model_name": "LayoutModel",
          "state": {
            "_view_name": "LayoutView",
            "grid_template_rows": null,
            "right": null,
            "justify_content": null,
            "_view_module": "@jupyter-widgets/base",
            "overflow": null,
            "_model_module_version": "1.2.0",
            "_view_count": null,
            "flex_flow": null,
            "width": null,
            "min_width": null,
            "border": null,
            "align_items": null,
            "bottom": null,
            "_model_module": "@jupyter-widgets/base",
            "top": null,
            "grid_column": null,
            "overflow_y": null,
            "overflow_x": null,
            "grid_auto_flow": null,
            "grid_area": null,
            "grid_template_columns": null,
            "flex": null,
            "_model_name": "LayoutModel",
            "justify_items": null,
            "grid_row": null,
            "max_height": null,
            "align_content": null,
            "visibility": null,
            "align_self": null,
            "height": null,
            "min_height": null,
            "padding": null,
            "grid_auto_rows": null,
            "grid_gap": null,
            "max_width": null,
            "order": null,
            "_view_module_version": "1.2.0",
            "grid_template_areas": null,
            "object_position": null,
            "object_fit": null,
            "grid_auto_columns": null,
            "margin": null,
            "display": null,
            "left": null
          }
        },
        "3f632cb2b58741009c48669e8c8906c7": {
          "model_module": "@jupyter-widgets/controls",
          "model_name": "DescriptionStyleModel",
          "state": {
            "_view_name": "StyleView",
            "_model_name": "DescriptionStyleModel",
            "description_width": "",
            "_view_module": "@jupyter-widgets/base",
            "_model_module_version": "1.5.0",
            "_view_count": null,
            "_view_module_version": "1.2.0",
            "_model_module": "@jupyter-widgets/controls"
          }
        },
        "5262dc19d38742a195f4a62fe9bdfe78": {
          "model_module": "@jupyter-widgets/base",
          "model_name": "LayoutModel",
          "state": {
            "_view_name": "LayoutView",
            "grid_template_rows": null,
            "right": null,
            "justify_content": null,
            "_view_module": "@jupyter-widgets/base",
            "overflow": null,
            "_model_module_version": "1.2.0",
            "_view_count": null,
            "flex_flow": null,
            "width": null,
            "min_width": null,
            "border": null,
            "align_items": null,
            "bottom": null,
            "_model_module": "@jupyter-widgets/base",
            "top": null,
            "grid_column": null,
            "overflow_y": null,
            "overflow_x": null,
            "grid_auto_flow": null,
            "grid_area": null,
            "grid_template_columns": null,
            "flex": null,
            "_model_name": "LayoutModel",
            "justify_items": null,
            "grid_row": null,
            "max_height": null,
            "align_content": null,
            "visibility": null,
            "align_self": null,
            "height": null,
            "min_height": null,
            "padding": null,
            "grid_auto_rows": null,
            "grid_gap": null,
            "max_width": null,
            "order": null,
            "_view_module_version": "1.2.0",
            "grid_template_areas": null,
            "object_position": null,
            "object_fit": null,
            "grid_auto_columns": null,
            "margin": null,
            "display": null,
            "left": null
          }
        },
        "b7bd17283cd54243b2b11a21cd4a20a6": {
          "model_module": "@jupyter-widgets/controls",
          "model_name": "HBoxModel",
          "state": {
            "_view_name": "HBoxView",
            "_dom_classes": [],
            "_model_name": "HBoxModel",
            "_view_module": "@jupyter-widgets/controls",
            "_model_module_version": "1.5.0",
            "_view_count": null,
            "_view_module_version": "1.5.0",
            "box_style": "",
            "layout": "IPY_MODEL_e50bda91311a4aac95444a20c6bf7e9c",
            "_model_module": "@jupyter-widgets/controls",
            "children": [
              "IPY_MODEL_6265857d120648168316a824a322292f",
              "IPY_MODEL_614850b561c3483aa69e2046d7fbc253"
            ]
          }
        },
        "e50bda91311a4aac95444a20c6bf7e9c": {
          "model_module": "@jupyter-widgets/base",
          "model_name": "LayoutModel",
          "state": {
            "_view_name": "LayoutView",
            "grid_template_rows": null,
            "right": null,
            "justify_content": null,
            "_view_module": "@jupyter-widgets/base",
            "overflow": null,
            "_model_module_version": "1.2.0",
            "_view_count": null,
            "flex_flow": null,
            "width": null,
            "min_width": null,
            "border": null,
            "align_items": null,
            "bottom": null,
            "_model_module": "@jupyter-widgets/base",
            "top": null,
            "grid_column": null,
            "overflow_y": null,
            "overflow_x": null,
            "grid_auto_flow": null,
            "grid_area": null,
            "grid_template_columns": null,
            "flex": null,
            "_model_name": "LayoutModel",
            "justify_items": null,
            "grid_row": null,
            "max_height": null,
            "align_content": null,
            "visibility": null,
            "align_self": null,
            "height": null,
            "min_height": null,
            "padding": null,
            "grid_auto_rows": null,
            "grid_gap": null,
            "max_width": null,
            "order": null,
            "_view_module_version": "1.2.0",
            "grid_template_areas": null,
            "object_position": null,
            "object_fit": null,
            "grid_auto_columns": null,
            "margin": null,
            "display": null,
            "left": null
          }
        },
        "6265857d120648168316a824a322292f": {
          "model_module": "@jupyter-widgets/controls",
          "model_name": "FloatProgressModel",
          "state": {
            "_view_name": "ProgressView",
            "style": "IPY_MODEL_68bdc8e1d7f24b23a678514e469a7cf8",
            "_dom_classes": [],
            "description": "",
            "_model_name": "FloatProgressModel",
            "bar_style": "success",
            "max": 4542,
            "_view_module": "@jupyter-widgets/controls",
            "_model_module_version": "1.5.0",
            "value": 4542,
            "_view_count": null,
            "_view_module_version": "1.5.0",
            "orientation": "horizontal",
            "min": 0,
            "description_tooltip": null,
            "_model_module": "@jupyter-widgets/controls",
            "layout": "IPY_MODEL_46df43acf8154a95bd0eb6b7bcbba39e"
          }
        },
        "614850b561c3483aa69e2046d7fbc253": {
          "model_module": "@jupyter-widgets/controls",
          "model_name": "HTMLModel",
          "state": {
            "_view_name": "HTMLView",
            "style": "IPY_MODEL_274a8df75fa94e709617d04c0d748562",
            "_dom_classes": [],
            "description": "",
            "_model_name": "HTMLModel",
            "placeholder": "​",
            "_view_module": "@jupyter-widgets/controls",
            "_model_module_version": "1.5.0",
            "value": " 5120/? [00:00&lt;00:00, 30266.16it/s]",
            "_view_count": null,
            "_view_module_version": "1.5.0",
            "description_tooltip": null,
            "_model_module": "@jupyter-widgets/controls",
            "layout": "IPY_MODEL_55ab9d33a67f426b82ff3212bb9a49f6"
          }
        },
        "68bdc8e1d7f24b23a678514e469a7cf8": {
          "model_module": "@jupyter-widgets/controls",
          "model_name": "ProgressStyleModel",
          "state": {
            "_view_name": "StyleView",
            "_model_name": "ProgressStyleModel",
            "description_width": "initial",
            "_view_module": "@jupyter-widgets/base",
            "_model_module_version": "1.5.0",
            "_view_count": null,
            "_view_module_version": "1.2.0",
            "bar_color": null,
            "_model_module": "@jupyter-widgets/controls"
          }
        },
        "46df43acf8154a95bd0eb6b7bcbba39e": {
          "model_module": "@jupyter-widgets/base",
          "model_name": "LayoutModel",
          "state": {
            "_view_name": "LayoutView",
            "grid_template_rows": null,
            "right": null,
            "justify_content": null,
            "_view_module": "@jupyter-widgets/base",
            "overflow": null,
            "_model_module_version": "1.2.0",
            "_view_count": null,
            "flex_flow": null,
            "width": null,
            "min_width": null,
            "border": null,
            "align_items": null,
            "bottom": null,
            "_model_module": "@jupyter-widgets/base",
            "top": null,
            "grid_column": null,
            "overflow_y": null,
            "overflow_x": null,
            "grid_auto_flow": null,
            "grid_area": null,
            "grid_template_columns": null,
            "flex": null,
            "_model_name": "LayoutModel",
            "justify_items": null,
            "grid_row": null,
            "max_height": null,
            "align_content": null,
            "visibility": null,
            "align_self": null,
            "height": null,
            "min_height": null,
            "padding": null,
            "grid_auto_rows": null,
            "grid_gap": null,
            "max_width": null,
            "order": null,
            "_view_module_version": "1.2.0",
            "grid_template_areas": null,
            "object_position": null,
            "object_fit": null,
            "grid_auto_columns": null,
            "margin": null,
            "display": null,
            "left": null
          }
        },
        "274a8df75fa94e709617d04c0d748562": {
          "model_module": "@jupyter-widgets/controls",
          "model_name": "DescriptionStyleModel",
          "state": {
            "_view_name": "StyleView",
            "_model_name": "DescriptionStyleModel",
            "description_width": "",
            "_view_module": "@jupyter-widgets/base",
            "_model_module_version": "1.5.0",
            "_view_count": null,
            "_view_module_version": "1.2.0",
            "_model_module": "@jupyter-widgets/controls"
          }
        },
        "55ab9d33a67f426b82ff3212bb9a49f6": {
          "model_module": "@jupyter-widgets/base",
          "model_name": "LayoutModel",
          "state": {
            "_view_name": "LayoutView",
            "grid_template_rows": null,
            "right": null,
            "justify_content": null,
            "_view_module": "@jupyter-widgets/base",
            "overflow": null,
            "_model_module_version": "1.2.0",
            "_view_count": null,
            "flex_flow": null,
            "width": null,
            "min_width": null,
            "border": null,
            "align_items": null,
            "bottom": null,
            "_model_module": "@jupyter-widgets/base",
            "top": null,
            "grid_column": null,
            "overflow_y": null,
            "overflow_x": null,
            "grid_auto_flow": null,
            "grid_area": null,
            "grid_template_columns": null,
            "flex": null,
            "_model_name": "LayoutModel",
            "justify_items": null,
            "grid_row": null,
            "max_height": null,
            "align_content": null,
            "visibility": null,
            "align_self": null,
            "height": null,
            "min_height": null,
            "padding": null,
            "grid_auto_rows": null,
            "grid_gap": null,
            "max_width": null,
            "order": null,
            "_view_module_version": "1.2.0",
            "grid_template_areas": null,
            "object_position": null,
            "object_fit": null,
            "grid_auto_columns": null,
            "margin": null,
            "display": null,
            "left": null
          }
        }
      }
    }
  },
  "cells": [
    {
      "cell_type": "markdown",
      "metadata": {
        "id": "view-in-github",
        "colab_type": "text"
      },
      "source": [
        "<a href=\"https://colab.research.google.com/github/PetrovAlexey/GenerativeModels/blob/main/module3_gans.ipynb\" target=\"_parent\"><img src=\"https://colab.research.google.com/assets/colab-badge.svg\" alt=\"Open In Colab\"/></a>"
      ]
    },
    {
      "cell_type": "markdown",
      "metadata": {
        "id": "badEjao5zR1o"
      },
      "source": [
        "# GANs\n",
        "\n",
        "This assignment consists of 4 parts, **to get full mark you should complete part 1 and any two of the three remaining parts**:\n",
        "1. 1D data (obligatory)\n",
        "2. SNGAN on CIFAR-10\n",
        "3. BiGAN on MNIST\n",
        "4. CycleGAN on ColoredMNIST\n",
        "\n",
        "Each task is accompanied with some amount of code to allow you to concentrate on the most interesting parts of the assignment. You are free to modify any code in the solution section if you think it will make it more convenient. However you should not modify data acquisition and result sections.\n",
        "\n",
        "Credit: this notebook is based on hw4 of \"Deep Unsupervised Learning\" by Berkeley"
      ]
    },
    {
      "cell_type": "code",
      "metadata": {
        "colab": {
          "base_uri": "https://localhost:8080/"
        },
        "id": "K16w9jFyE_-s",
        "outputId": "2e4679df-c46f-4c5c-b33f-e1d6a46d133f"
      },
      "source": [
        "from google.colab import drive\n",
        "drive.mount('/content/drive')"
      ],
      "execution_count": null,
      "outputs": [
        {
          "output_type": "stream",
          "text": [
            "Mounted at /content/drive\n"
          ],
          "name": "stdout"
        }
      ]
    },
    {
      "cell_type": "code",
      "metadata": {
        "id": "maU5VOGeNsge"
      },
      "source": [
        "import numpy as np\n",
        "import matplotlib.pyplot as plt\n",
        "import IPython\n",
        "import torch\n",
        "import torch.nn as nn\n",
        "import torch.nn.functional as F\n",
        "import torch.utils.data as data\n",
        "import torch.optim as optim\n",
        "from scipy.stats import norm\n",
        "from tqdm import trange, tqdm_notebook\n",
        "import os.path as osp\n",
        "import warnings\n",
        "warnings.filterwarnings('ignore')"
      ],
      "execution_count": null,
      "outputs": []
    },
    {
      "cell_type": "code",
      "metadata": {
        "id": "yRGWbEpd22he"
      },
      "source": [
        "import PIL.Image as Image"
      ],
      "execution_count": null,
      "outputs": []
    },
    {
      "cell_type": "markdown",
      "metadata": {
        "id": "vYa4i0uxspaA"
      },
      "source": [
        "# Question 1: Warmup\n",
        "\n",
        "In this question, we will train 2 different variants of GANs on an easy 1D dataset. \n",
        "\n",
        "Execute the cell below to visualize our datasets."
      ]
    },
    {
      "cell_type": "code",
      "metadata": {
        "id": "N7o80wZlKFKq"
      },
      "source": [
        "def q1_data(n=20000):\n",
        "    assert n % 2 == 0\n",
        "    gaussian1 = np.random.normal(loc=-1, scale=0.25, size=(n//2,))\n",
        "    gaussian2 = np.random.normal(loc=0.5, scale=0.5, size=(n//2,))\n",
        "    data = (np.concatenate([gaussian1, gaussian2]) + 1).reshape([-1, 1])\n",
        "    scaled_data = (data - np.min(data)) / (np.max(data) - np.min(data) + 1e-8)\n",
        "    return 2 * scaled_data -1\n",
        "\n",
        "def visualize_q1_dataset():\n",
        "    data = q1_data()\n",
        "    plt.hist(data, bins=50, alpha=0.7, label='train data')\n",
        "    plt.legend()\n",
        "    plt.show()"
      ],
      "execution_count": null,
      "outputs": []
    },
    {
      "cell_type": "code",
      "metadata": {
        "colab": {
          "base_uri": "https://localhost:8080/",
          "height": 267
        },
        "id": "Fb5MioT8SZzN",
        "outputId": "4f84020d-560e-43f1-e3de-36cc4a61f01f"
      },
      "source": [
        "visualize_q1_dataset()"
      ],
      "execution_count": null,
      "outputs": [
        {
          "output_type": "display_data",
          "data": {
            "image/png": "[encoded data removed]",
            "text/plain": [
              "<Figure size 432x288 with 1 Axes>"
            ]
          },
          "metadata": {
            "tags": [],
            "needs_background": "light"
          }
        }
      ]
    },
    {
      "cell_type": "markdown",
      "metadata": {
        "id": "WSOkSmHSL2c3"
      },
      "source": [
        "## Part 1(a)\n",
        "In this part, we'll train our generator and discriminator via the original minimax GAN objective:\n",
        "<insert GAN Objective here>\n",
        "$$min_{G} max_{D} \\mathbb{E}_{x \\sim p_{data}} [\\log D(x)] + \\mathbb{E}_{z \\sim p(z)}[\\log (1-D(G(z)))]$$\n",
        "\n",
        "Use an MLP for both your generator and your discriminator, and train until the generated distribution resembles the target distribution. \n",
        "\n"
      ]
    },
    {
      "cell_type": "markdown",
      "metadata": {
        "id": "rKl7kyUPwPSJ"
      },
      "source": [
        "### Solution"
      ]
    },
    {
      "cell_type": "code",
      "metadata": {
        "id": "eh3X-3vqMm2X"
      },
      "source": [
        "def train(generator, critic, c_loss_fn, g_loss_fn, train_loader, g_optimizer, c_optimizer, n_critic=1, g_scheduler=None, c_scheduler=None, weight_clipping=None):\n",
        "    \"\"\"\n",
        "    generator: \n",
        "    critic: discriminator in 1ab, general model otherwise\n",
        "    c_loss_fn: takes (generator, discriminator, real_batch)\n",
        "    g_loss_fn: takes (generator, discriminator, real_batch)\n",
        "    train_loader: instance of DataLoader class\n",
        "    optimizer: \n",
        "    ncritic: how many critic gradient steps to do for every generator step\n",
        "    \"\"\"\n",
        "    g_losses, c_losses = [], []\n",
        "    generator.train()\n",
        "    critic.train()\n",
        "    if weight_clipping:\n",
        "        print('Weight_clipping')\n",
        "    for i, x in enumerate(train_loader):\n",
        "        x = x.to(device).float()\n",
        "        c_optimizer.zero_grad()\n",
        "        c_loss = c_loss_fn(generator, critic, x)\n",
        "        c_loss.backward()\n",
        "        c_losses.append(c_loss.item())\n",
        "\n",
        "        if weight_clipping:\n",
        "            torch.nn.utils.clip_grad_norm_(critic.parameters(), 1.0)\n",
        "        c_optimizer.step()\n",
        "\n",
        "        if i % n_critic == 0: # generator step\n",
        "            g_optimizer.zero_grad()\n",
        "            g_loss = g_loss_fn(generator, critic, x)\n",
        "            g_loss.backward()\n",
        "            g_losses.append(g_loss.item())\n",
        "            \n",
        "            if weight_clipping:\n",
        "                torch.nn.utils.clip_grad_norm_(generator.parameters(), 1.0)\n",
        "            g_optimizer.step()\n",
        "\n",
        "            if g_scheduler is not None:\n",
        "                g_scheduler.step()\n",
        "            if c_scheduler is not None:\n",
        "                c_scheduler.step()\n",
        "    return dict(g_losses=g_losses, c_losses=c_losses)\n",
        "\n",
        "def train_epochs(generator, critic, g_loss_fn, c_loss_fn, train_loader, train_args):\n",
        "    epochs, lr = train_args['epochs'], train_args['lr']\n",
        "    if 'optim_cls' in train_args:\n",
        "        g_optimizer = train_args['optim_cls'](generator.parameters(), lr=lr)\n",
        "        c_optimizer = train_args['optim_cls'](critic.parameters(), lr=lr)\n",
        "    else:\n",
        "        g_optimizer = optim.Adam(generator.parameters(), lr=lr, betas=(0, 0.9))\n",
        "        c_optimizer = optim.Adam(critic.parameters(), lr=lr, betas=(0, 0.9))\n",
        "        \n",
        "    if train_args.get('lr_schedule', None) is not None:\n",
        "        g_scheduler = optim.lr_scheduler.LambdaLR(g_optimizer, train_args['lr_schedule'])\n",
        "        c_scheduler = optim.lr_scheduler.LambdaLR(c_optimizer, train_args['lr_schedule'])\n",
        "    else:\n",
        "        g_scheduler = None\n",
        "        c_scheduler = None \n",
        "\n",
        "    train_losses = dict()\n",
        "    for epoch in tqdm_notebook(range(epochs), desc='Epoch', leave=False):\n",
        "        generator.train()\n",
        "        critic.train()\n",
        "        train_loss = train(generator, critic, c_loss_fn, g_loss_fn, train_loader, \n",
        "                           g_optimizer, c_optimizer, n_critic=train_args.get('n_critic', 0), \n",
        "                           g_scheduler=g_scheduler, c_scheduler=c_scheduler,\n",
        "                           weight_clipping=train_args.get('weight_clipping', None))\n",
        "        \n",
        "        for k in train_loss.keys():\n",
        "            if k not in train_losses:\n",
        "                train_losses[k] = []\n",
        "            train_losses[k].extend(train_loss[k])\n",
        "\n",
        "    if train_args.get('q1', False):  # q1, return the snapshots\n",
        "        final_snapshot = get_training_snapshot(generator, critic)\n",
        "        return [train_losses, *final_snapshot]\n",
        "    else:\n",
        "        return train_losses\n",
        "\n",
        "def get_training_snapshot(generator, critic, n_samples=5000):\n",
        "    generator.eval()\n",
        "    critic.eval()\n",
        "    xs = np.linspace(-1, 1, 1000)\n",
        "    samples = generator.sample(n_samples).detach().cpu().numpy()\n",
        "    critic_output = critic(torch.tensor(xs, device=device).float().unsqueeze(1)).detach().cpu().numpy()\n",
        "    return samples, xs, critic_output"
      ],
      "execution_count": null,
      "outputs": []
    },
    {
      "cell_type": "code",
      "metadata": {
        "id": "m8wZDEKoMt3m"
      },
      "source": [
        "class MLP(nn.Module):\n",
        "    def __init__(self, input_size, n_hidden, hidden_size, output_size):\n",
        "        super().__init__()\n",
        "        layers = []\n",
        "        for _ in range(n_hidden):\n",
        "            layers.append(nn.Linear(input_size, hidden_size))\n",
        "            layers.append(nn.LeakyReLU(0.2))\n",
        "            input_size = hidden_size\n",
        "        layers.append(nn.Linear(hidden_size, output_size))\n",
        "        self.layers = nn.Sequential(*layers)\n",
        "    \n",
        "    def forward(self, x):\n",
        "        return self.layers(x)\n",
        "\n",
        "class MLPGenerator(nn.Module):\n",
        "    def __init__(self, latent_dim, n_hidden, hidden_size, data_dim):\n",
        "        super().__init__()\n",
        "        layers = []\n",
        "        self.latent_dim = latent_dim\n",
        "        self.mlp = MLP(latent_dim, n_hidden, hidden_size, data_dim)\n",
        "    \n",
        "    def forward(self, z):\n",
        "        # TODO: outputs in [-1, 1]\n",
        "        output = self.mlp(z)\n",
        "        return output\n",
        "        \n",
        "    def sample(self, n):\n",
        "        # n is the number of samples to return\n",
        "        # TODO\n",
        "        distr = torch.distributions.normal.Normal(torch.tensor([0.0]), torch.tensor([1.0]))\n",
        "        z = distr.sample((n, self.latent_dim)).cuda()\n",
        "        output = self.forward(torch.squeeze(z, dim=2))\n",
        "        return output\n",
        "\n",
        "class MLPDiscriminator(nn.Module):\n",
        "    def __init__(self, latent_dim, n_hidden, hidden_size, data_dim):\n",
        "        super().__init__()\n",
        "        self.mlp = MLP(latent_dim, n_hidden, hidden_size, data_dim)\n",
        "    \n",
        "    def forward(self, z):\n",
        "        # TODO: output probabilities in [0, 1]\n",
        "        output = self.mlp(z)\n",
        "        output = torch.nn.functional.sigmoid(output)\n",
        "        return output"
      ],
      "execution_count": null,
      "outputs": []
    },
    {
      "cell_type": "code",
      "metadata": {
        "id": "pfyB3DFgKfA5"
      },
      "source": [
        "device = 'cuda:0'\n",
        "def q1_a(train_data):\n",
        "    \"\"\"\n",
        "    train_data: An (20000, 1) numpy array of floats in [-1, 1]\n",
        "\n",
        "    Returns\n",
        "    - a (# of training iterations,) numpy array of discriminator losses evaluated every minibatch\n",
        "\n",
        "    - a numpy array of size (5000,) of samples drawn from your model at the end of training\n",
        "    - a numpy array of size (1000,) linearly spaced from [-1, 1]; hint: np.linspace\n",
        "    - a numpy array of size (1000,), corresponding to the discriminator output (after sigmoid) \n",
        "        at each location in the previous array at the end of training\n",
        "    \"\"\"\n",
        "  \n",
        "    # create data loaders\n",
        "    train_loader = data.DataLoader(train_data, batch_size=64, shuffle=True)\n",
        "\n",
        "    # model\n",
        "    g = MLPGenerator(1, 3, 128, 1).to(device)\n",
        "    c = MLPDiscriminator(1, 3, 128, 1).to(device)\n",
        "\n",
        "    # loss functions\n",
        "    def g_loss(generator, critic, x):\n",
        "        n = x.shape[0]\n",
        "        current = generator.sample(n)\n",
        "        return torch.mean(torch.log(1 - critic(current)))\n",
        "\n",
        "    def c_loss(generator, critic, x):\n",
        "        n = x.shape[0]\n",
        "        current = generator.sample(n)\n",
        "        return -1 * torch.mean(torch.log(critic(x)) + torch.log(1 - critic(current)))\n",
        "\n",
        "    # train\n",
        "    train_losses, samples, xs, ys = train_epochs(g, c, g_loss, c_loss, train_loader, dict(epochs=25, lr=1e-4, n_critic=2, q1=True))\n",
        "    return train_losses['c_losses'], samples, xs, ys"
      ],
      "execution_count": null,
      "outputs": []
    },
    {
      "cell_type": "markdown",
      "metadata": {
        "id": "KLrFM7TQwZkC"
      },
      "source": [
        "### Results"
      ]
    },
    {
      "cell_type": "code",
      "metadata": {
        "colab": {
          "base_uri": "https://localhost:8080/",
          "height": 678,
          "referenced_widgets": [
            "6267a60e6b96428398884f5645cc3565",
            "f7307374db59446bab5effcb61f0a320",
            "05310bc2d2214770a636ce03f4aa2faf",
            "2bc72b6c88734e14893156bedc11b204",
            "d4b7f0acd84b404398284ea7f09d2837",
            "6848532eb1af47e3ae4a5e774c3e1a09",
            "53b8acfc10904a6199dc3f86f1a196e6",
            "343a1976718141088ec9fc1d38222746"
          ]
        },
        "id": "gRisn-yGwqoO",
        "outputId": "41cb1cc5-c906-45b5-dd57-5d3a92b53cc6"
      },
      "source": [
        "def plot_gan_training(losses, title, fname):\n",
        "    plt.figure()\n",
        "    n_itr = len(losses)\n",
        "    xs = np.arange(n_itr)\n",
        "\n",
        "    plt.plot(xs, losses, label='loss')\n",
        "    plt.legend()\n",
        "    plt.title(title)\n",
        "    plt.xlabel('Training Iteration')\n",
        "    plt.ylabel('Loss')\n",
        "    # savefig(fname)\n",
        "\n",
        "def q1_gan_plot(data, samples, xs, ys, title, fname):\n",
        "    print(samples)\n",
        "    plt.figure()\n",
        "    plt.hist(samples, bins=50, density=True, alpha=0.7, label='fake')\n",
        "    plt.hist(data, bins=50, density=True, alpha=0.7, label='real')\n",
        "\n",
        "    plt.plot(xs, ys, label='discrim')\n",
        "    plt.legend()\n",
        "    plt.title(title)\n",
        "    # savefig(fname)\n",
        "\n",
        "def q1_save_results(part, fn):\n",
        "    data = q1_data()\n",
        "    losses, samples, xs, ys = fn(data)\n",
        "\n",
        "    # loss plot\n",
        "    plot_gan_training(losses, 'Q1{} Losses'.format(part), 'results/q1{}_losses.png'.format(part))\n",
        "\n",
        "    # samples\n",
        "    q1_gan_plot(data, samples, xs, ys, 'Q1{} Final'.format(part), 'results/q1{}_final.png'.format(part))\n",
        "\n",
        "q1_save_results('a', q1_a)"
      ],
      "execution_count": null,
      "outputs": [
        {
          "output_type": "display_data",
          "data": {
            "application/vnd.jupyter.widget-view+json": {
              "model_id": "6267a60e6b96428398884f5645cc3565",
              "version_minor": 0,
              "version_major": 2
            },
            "text/plain": [
              "HBox(children=(FloatProgress(value=0.0, description='Epoch', max=25.0, style=ProgressStyle(description_width='…"
            ]
          },
          "metadata": {
            "tags": []
          }
        },
        {
          "output_type": "stream",
          "text": [
            "\r[[ 0.27434903]\n",
            " [-0.47806075]\n",
            " [ 0.01829336]\n",
            " ...\n",
            " [-0.1326894 ]\n",
            " [-0.48855963]\n",
            " [-0.4944429 ]]\n"
          ],
          "name": "stdout"
        },
        {
          "output_type": "display_data",
          "data": {
            "image/png": "[encoded data removed]",
            "text/plain": [
              "<Figure size 432x288 with 1 Axes>"
            ]
          },
          "metadata": {
            "tags": [],
            "needs_background": "light"
          }
        },
        {
          "output_type": "display_data",
          "data": {
            "image/png": "[encoded data removed]",
            "text/plain": [
              "<Figure size 432x288 with 1 Axes>"
            ]
          },
          "metadata": {
            "tags": [],
            "needs_background": "light"
          }
        }
      ]
    },
    {
      "cell_type": "markdown",
      "metadata": {
        "id": "2x4hfHRbZrDT"
      },
      "source": [
        "## Part 1(b)\n",
        "Here, we'll use the non-saturating formulation of the GAN objective. Now, we have two separate losses:\n",
        "$$L^{(D)} = \\mathbb{E}_{x \\sim p_{data}} [\\log D(x)] + \\mathbb{E}_{z \\sim p(z)}[\\log (1-D(G(z)))]$$\n",
        "$$L^{(G} = - \\mathbb{E}_{z \\sim p(z)} \\log(D(G(z))$$"
      ]
    },
    {
      "cell_type": "markdown",
      "metadata": {
        "id": "_Uun1MzfwpuC"
      },
      "source": [
        " ### Solution"
      ]
    },
    {
      "cell_type": "code",
      "metadata": {
        "id": "_qARVcqpQ014"
      },
      "source": [
        "def q1_b(train_data):\n",
        "    # create data loaders\n",
        "    train_loader = data.DataLoader(train_data, batch_size=64, shuffle=True)\n",
        "\n",
        "    # model\n",
        "    g = MLPGenerator(1, 3, 128, 1).to(device)\n",
        "    c = MLPDiscriminator(1, 3, 128, 1).to(device)\n",
        "\n",
        "    # loss functions\n",
        "    def g_loss(generator, critic, x):\n",
        "        n = x.shape[0]\n",
        "        current = generator.sample(n)\n",
        "        return -1 * torch.mean(torch.log(critic(current)))\n",
        "\n",
        "    def c_loss(generator, critic, x):\n",
        "        # TODO\n",
        "        n = x.shape[0]\n",
        "        current = generator.sample(n)\n",
        "        return -1 * torch.mean(torch.log(critic(x)) + torch.log(1 - critic(current)))\n",
        "\n",
        "    # train\n",
        "    train_losses, samples, xs, ys = train_epochs(g, c, g_loss, c_loss, train_loader, dict(epochs=25, lr=1e-4, n_critic=2, q1=True))\n",
        "\n",
        "    return train_losses['c_losses'], samples, xs, ys"
      ],
      "execution_count": null,
      "outputs": []
    },
    {
      "cell_type": "markdown",
      "metadata": {
        "id": "b0VSrZWzwrzT"
      },
      "source": [
        " ### Results"
      ]
    },
    {
      "cell_type": "code",
      "metadata": {
        "colab": {
          "base_uri": "https://localhost:8080/",
          "height": 678,
          "referenced_widgets": [
            "1860bf97fae543ae8109287025f5dc43",
            "1fceb4a24d4c49a4924ac3143f142b07",
            "8ca69077c2754900b0710a42dfdd965c",
            "2ec76f20c2f6438a893e03077cd969b0",
            "edf38809c2054229a0cb39bd0a5d9031",
            "533fccce28b844f3bdba716395890b6f",
            "13d2f5d0b5d34b148fa51f0bd1dbd81f",
            "4df9836c36894f6c91d148fe339e7196"
          ]
        },
        "id": "xfv-DeVKwtXl",
        "outputId": "845ebe0d-7963-402c-9230-097d798d86ad"
      },
      "source": [
        "q1_save_results('b', q1_b)"
      ],
      "execution_count": null,
      "outputs": [
        {
          "output_type": "display_data",
          "data": {
            "application/vnd.jupyter.widget-view+json": {
              "model_id": "1860bf97fae543ae8109287025f5dc43",
              "version_minor": 0,
              "version_major": 2
            },
            "text/plain": [
              "HBox(children=(FloatProgress(value=0.0, description='Epoch', max=25.0, style=ProgressStyle(description_width='…"
            ]
          },
          "metadata": {
            "tags": []
          }
        },
        {
          "output_type": "stream",
          "text": [
            "\r[[ 0.18805036]\n",
            " [-0.6088195 ]\n",
            " [ 0.43636966]\n",
            " ...\n",
            " [-0.57426155]\n",
            " [-0.2810902 ]\n",
            " [ 0.08796686]]\n"
          ],
          "name": "stdout"
        },
        {
          "output_type": "display_data",
          "data": {
            "image/png": "[encoded data removed]",
            "text/plain": [
              "<Figure size 432x288 with 1 Axes>"
            ]
          },
          "metadata": {
            "tags": [],
            "needs_background": "light"
          }
        },
        {
          "output_type": "display_data",
          "data": {
            "image/png": "[encoded data removed]",
            "text/plain": [
              "<Figure size 432x288 with 1 Axes>"
            ]
          },
          "metadata": {
            "tags": [],
            "needs_background": "light"
          }
        }
      ]
    },
    {
      "cell_type": "markdown",
      "metadata": {
        "id": "sBESzChmEfcF"
      },
      "source": [
        "# Question 2: GANs on CIFAR-10"
      ]
    },
    {
      "cell_type": "markdown",
      "metadata": {
        "id": "ZLRdpUxy5jc0"
      },
      "source": [
        "In this exercise, you will train GANs on CIFAR-10. Execute the cell below to visualize the dataset. "
      ]
    },
    {
      "cell_type": "code",
      "metadata": {
        "colab": {
          "base_uri": "https://localhost:8080/",
          "height": 347,
          "referenced_widgets": [
            "ad1abb3f8c4c41648585ec5601d696d8",
            "13c260528a5c4aaa8e687078d81268a6",
            "72beff3aa1114d20854afac58cfdf46b",
            "0b4b4fd0260648e1ad708fe7b983bbd4",
            "1955ed6be3fe4639bb934b6cdd85acdf",
            "169c06ad5d174dfb851c0b537cdd137b",
            "8aa08e502c0246c49a1bd299a0414413",
            "5461f062f6c44e38940b9ba37fdf78b8"
          ]
        },
        "id": "-WbafudL5mnz",
        "outputId": "667f940a-4d3a-408e-d6f9-f14f6679b7e1"
      },
      "source": [
        "import torchvision\n",
        "from torchvision.utils import make_grid\n",
        "\n",
        "def show_samples(samples, fname=None, nrow=10, title='Samples'):\n",
        "    samples = (torch.FloatTensor(samples) / 255).permute(0, 3, 1, 2)\n",
        "    grid_img = make_grid(samples, nrow=nrow)\n",
        "    plt.figure()\n",
        "    plt.title(title)\n",
        "    plt.imshow(grid_img.permute(1, 2, 0))\n",
        "    plt.axis('off')\n",
        "\n",
        "    if fname is not None:\n",
        "        savefig(fname)\n",
        "    else:\n",
        "        plt.show()\n",
        "\n",
        "def load_q2_data():\n",
        "    train_data = torchvision.datasets.CIFAR10(\"./data\", transform=torchvision.transforms.ToTensor(),\n",
        "                                              download=True, train=True)\n",
        "    return train_data\n",
        "\n",
        "def visualize_q2_data():\n",
        "    train_data = load_q2_data()\n",
        "    imgs = train_data.data[:100]\n",
        "    show_samples(imgs, title=f'CIFAR-10 Samples')\n",
        "\n",
        "visualize_q2_data()"
      ],
      "execution_count": null,
      "outputs": [
        {
          "output_type": "stream",
          "text": [
            "Downloading https://www.cs.toronto.edu/~kriz/cifar-10-python.tar.gz to ./data/cifar-10-python.tar.gz\n"
          ],
          "name": "stdout"
        },
        {
          "output_type": "display_data",
          "data": {
            "application/vnd.jupyter.widget-view+json": {
              "model_id": "ad1abb3f8c4c41648585ec5601d696d8",
              "version_minor": 0,
              "version_major": 2
            },
            "text/plain": [
              "HBox(children=(FloatProgress(value=0.0, max=170498071.0), HTML(value='')))"
            ]
          },
          "metadata": {
            "tags": []
          }
        },
        {
          "output_type": "stream",
          "text": [
            "\n",
            "Extracting ./data/cifar-10-python.tar.gz to ./data\n"
          ],
          "name": "stdout"
        },
        {
          "output_type": "display_data",
          "data": {
            "image/png": "[encoded data removed]",
            "text/plain": [
              "<Figure size 432x288 with 1 Axes>"
            ]
          },
          "metadata": {
            "tags": [],
            "needs_background": "light"
          }
        }
      ]
    },
    {
      "cell_type": "markdown",
      "metadata": {
        "id": "vIYRnVafEkcd"
      },
      "source": [
        " We'll use the CIFAR-10 architecture from the [SN-GAN paper](https://arxiv.org/pdf/1802.05957.pdf), with $z \\in \\mathbb R ^{128}$, with $z \\sim \\mathcal N (0, I_{128})$. Instead of upsampling via transposed convolutions and downsampling via pooling or striding, we'll use these DepthToSpace and SpaceToDepth methods for changing the spatial configuration of our hidden states. \n",
        "\n",
        "```\n",
        "class DepthToSpace(nn.Module):\n",
        "    def __init__(self, block_size):\n",
        "        super().__init__()\n",
        "        self.block_size = block_size\n",
        "        self.block_size_sq = block_size * block_size\n",
        "\n",
        "    def forward(self, input):\n",
        "        output = input.permute(0, 2, 3, 1)\n",
        "        (batch_size, d_height, d_width, d_depth) = output.size()\n",
        "        s_depth = int(d_depth / self.block_size_sq)\n",
        "        s_width = int(d_width * self.block_size)\n",
        "        s_height = int(d_height * self.block_size)\n",
        "        t_1 = output.reshape(batch_size, d_height, d_width, self.block_size_sq, s_depth)\n",
        "        spl = t_1.split(self.block_size, 3)\n",
        "        stack = [t_t.reshape(batch_size, d_height, s_width, s_depth) for t_t in spl]\n",
        "        output = torch.stack(stack, 0).transpose(0, 1).permute(0, 2, 1, 3, 4).reshape(batch_size, s_height, s_width,\n",
        "                                                                                      s_depth)\n",
        "        output = output.permute(0, 3, 1, 2)\n",
        "        return output\n",
        "\n",
        "\n",
        "class SpaceToDepth(nn.Module):\n",
        "    def __init__(self, block_size):\n",
        "        super().__init__()\n",
        "        self.block_size = block_size\n",
        "        self.block_size_sq = block_size * block_size\n",
        "\n",
        "    def forward(self, input):\n",
        "        output = input.permute(0, 2, 3, 1)\n",
        "        (batch_size, s_height, s_width, s_depth) = output.size()\n",
        "        d_depth = s_depth * self.block_size_sq\n",
        "        d_width = int(s_width / self.block_size)\n",
        "        d_height = int(s_height / self.block_size)\n",
        "        t_1 = output.split(self.block_size, 2)\n",
        "        stack = [t_t.reshape(batch_size, d_height, d_depth) for t_t in t_1]\n",
        "        output = torch.stack(stack, 1)\n",
        "        output = output.permute(0, 2, 1, 3)\n",
        "        output = output.permute(0, 3, 1, 2)\n",
        "        return output\n",
        "\n",
        "# Spatial Upsampling with Nearest Neighbors\n",
        "Upsample_Conv2d(in_dim, out_dim, kernel_size=(3, 3), stride=1, padding=1):\n",
        "    x = torch.cat([x, x, x, x], dim=1)\n",
        "    DepthToSpace(block_size=2)\n",
        "    Conv2d(in_dim, out_dim, kernel_size, stride=stride, padding=padding)\n",
        "\n",
        "\n",
        "# Spatial Downsampling with Spatial Mean Pooling\n",
        "Downsample_Conv2d(in_dim, out_dim, kernel_size=(3, 3), stride=1, padding=1):\n",
        "        SpaceToDepth(2)\n",
        "        torch.sum(x.chunk(4, dim=1)) / 4.0\n",
        "        nn.Conv2d(in_dim, out_dim, kernel_size,\n",
        "                              stride=stride, padding=padding, bias=bias)\n",
        "```\n",
        "\n",
        "Here's pseudocode for how we'll implement a ResBlockUp, used in the generator:\n",
        "\n",
        "```\n",
        "ResnetBlockUp(x, in_dim, kernel_size=(3, 3), n_filters=256):\n",
        "    _x = x\n",
        "    _x = nn.BatchNorm2d(in_dim)(_x)\n",
        "    _x = nn.ReLU()(_x)\n",
        "    _x = nn.Conv2d(in_dim, n_filters, kernel_size, padding=1)(_x)\n",
        "    _x = nn.BatchNorm2d(n_filters)(_x)\n",
        "    _x = nn.ReLU()(_x)\n",
        "    residual = Upsample_Conv2d(n_filters, n_filters, kernel_size, padding=1)(_x)\n",
        "    shortcut = Upsample_Conv2d(in_dim, n_filters, kernel_size=(1, 1), padding=0)(x)\n",
        "    return residual + shortcut\n",
        "```\n",
        "The ResBlockDown module is similar, except it uses Downsample_Conv2d and omits the BatchNorm.\n",
        "\n",
        "Finally, here's the architecture for the generator:\n",
        "```\n",
        "def Generator(*, n_samples=1024, n_filters=128):\n",
        "    z = Normal(0, 1)([n_samples, 128])\n",
        "    nn.Linear(128, 4*4*256)\n",
        "    reshape output of linear layer\n",
        "    ResnetBlockUp(in_dim=256, n_filters=n_filters),\n",
        "    ResnetBlockUp(in_dim=n_filters, n_filters=n_filters),\n",
        "    ResnetBlockUp(in_dim=n_filters, n_filters=n_filters),\n",
        "    nn.BatchNorm2d(n_filters),\n",
        "    nn.ReLU(),\n",
        "    nn.Conv2d(n_filters, 3, kernel_size=(3, 3), padding=1),\n",
        "    nn.Tanh()\n",
        "```\n",
        "Again, the discriminator has the same architecture, except with ResnetBlockDown and no BatchNorm.\n",
        "\n",
        "**Hyperparameters**\n",
        "\n",
        "We'll implement [WGAN-GP](https://arxiv.org/abs/1704.00028), which uses a gradient penalty to regularize the discriminator. Use the Adam optimizer with $\\alpha = 2e-4$, $\\beta_1 = 0$, $\\beta_2 = 0.9$, $\\lambda = 10$, $n_{critic} = 5$. Use a batch size of 256 and n_filters=128 within the ResBlocks. Train for at least 25000 (**Warning: 25000 g steps will take ~12 hours on colab, so consider starting from 2500 steps and if your generator converges to something reasonable you can proceed**) gradient steps, with the learning rate linearly annealed to 0 over training. \n",
        "\n",
        "**You will provide the following deliverables**\n",
        "1. Inception score (CIFAR-10 version) of the final model. We provide a utility that will automatically do this for you.\n",
        "3. Discriminator loss across training\n",
        "4. 100 samples. "
      ]
    },
    {
      "cell_type": "markdown",
      "metadata": {
        "id": "WlY4YYyedBlR"
      },
      "source": [
        "## Solution"
      ]
    },
    {
      "cell_type": "code",
      "metadata": {
        "id": "8zZnCcdgUoqw"
      },
      "source": [
        "class Generator(nn.Module):\n",
        "    def __init__(self, n_filters=256):\n",
        "        super(Generator, self).__init__()\n",
        "        self.fc = nn.Linear(128, 4 * 4 * 256)\n",
        "        network = [\n",
        "            # TODO\n",
        "            ResnetBlockUp(in_dim=256, n_filters=n_filters),\n",
        "            ResnetBlockUp(in_dim=n_filters, n_filters=n_filters),\n",
        "            ResnetBlockUp(in_dim=n_filters, n_filters=n_filters),\n",
        "            nn.BatchNorm2d(n_filters),\n",
        "            nn.ReLU(),\n",
        "            nn.Conv2d(n_filters, 3, kernel_size=(3, 3), padding=1),\n",
        "            nn.Tanh()\n",
        "        ]\n",
        "        self.net = nn.Sequential(*network)\n",
        "        self.noise = torch.distributions.Normal(torch.tensor(0.), torch.tensor(1.))\n",
        "\n",
        "    def forward(self, z):\n",
        "        z = self.fc(z).reshape(-1, 256, 4, 4)\n",
        "        return self.net(z)\n",
        "\n",
        "    def sample(self, n_samples):\n",
        "        z = self.noise.sample([n_samples, 128]).to(device)\n",
        "        return self.forward(z)\n",
        "\n",
        "class Discriminator(nn.Module):\n",
        "    def __init__(self, n_filters=256):\n",
        "        super(Discriminator, self).__init__()\n",
        "        network = [\n",
        "            # TODO\n",
        "            nn.Conv2d(3, n_filters, kernel_size=(3, 3), padding=1),\n",
        "            ResnetBlockDown(in_dim=n_filters, n_filters=n_filters),\n",
        "            ResnetBlockDown(in_dim=n_filters, n_filters=n_filters),\n",
        "            ResnetBlockDown(in_dim=n_filters, n_filters=128),\n",
        "            nn.ReLU(),\n",
        "        ]\n",
        "        self.net = nn.Sequential(*network)\n",
        "        self.fc = nn.Linear(128, 1)\n",
        "\n",
        "    def forward(self, z):\n",
        "        z = self.net(z)\n",
        "        z = torch.sum(z, dim=(2, 3))\n",
        "        return self.fc(z)\n",
        "\n",
        "\n",
        "class DepthToSpace(nn.Module):\n",
        "    def __init__(self, block_size):\n",
        "        super().__init__()\n",
        "        self.block_size = block_size\n",
        "        self.block_size_sq = block_size * block_size\n",
        " \n",
        "    def forward(self, input):\n",
        "        output = input.permute(0, 2, 3, 1)\n",
        "        (batch_size, d_height, d_width, d_depth) = output.size()\n",
        "        s_depth = int(d_depth / self.block_size_sq)\n",
        "        s_width = int(d_width * self.block_size)\n",
        "        s_height = int(d_height * self.block_size)\n",
        "        t_1 = output.reshape(batch_size, d_height, d_width, self.block_size_sq, s_depth)\n",
        "        spl = t_1.split(self.block_size, 3)\n",
        "        stack = [t_t.reshape(batch_size, d_height, s_width, s_depth) for t_t in spl]\n",
        "        output = torch.stack(stack, 0).transpose(0, 1).permute(0, 2, 1, 3, 4).reshape(batch_size, s_height, s_width,\n",
        "                                                                                      s_depth)\n",
        "        output = output.permute(0, 3, 1, 2)\n",
        "        return output\n",
        " \n",
        "class SpaceToDepth(nn.Module):\n",
        "    def __init__(self, block_size):\n",
        "        super().__init__()\n",
        "        self.block_size = block_size\n",
        "        self.block_size_sq = block_size * block_size\n",
        " \n",
        "    def forward(self, input):\n",
        "        output = input.permute(0, 2, 3, 1)\n",
        "        (batch_size, s_height, s_width, s_depth) = output.size()\n",
        "        d_depth = s_depth * self.block_size_sq\n",
        "        d_width = int(s_width / self.block_size)\n",
        "        d_height = int(s_height / self.block_size)\n",
        "        t_1 = output.split(self.block_size, 2)\n",
        "        stack = [t_t.reshape(batch_size, d_height, d_depth) for t_t in t_1]\n",
        "        output = torch.stack(stack, 1)\n",
        "        output = output.permute(0, 2, 1, 3)\n",
        "        output = output.permute(0, 3, 1, 2)\n",
        "        return output\n",
        " \n",
        "# Spatial Upsampling with Nearest Neighbors\n",
        "class Upsample_Conv2d(nn.Module):\n",
        "    def __init__(self, in_dim, out_dim, kernel_size=(3, 3), stride=1, padding=1):\n",
        "        super().__init__()\n",
        "        self.depth_to_space = DepthToSpace(block_size=2)\n",
        "        self.conv2d = nn.Conv2d(in_dim, out_dim, kernel_size, stride=stride, padding=padding)\n",
        " \n",
        "    def forward(self, x):\n",
        "        output = torch.cat([x, x, x, x], dim=1)\n",
        "        output = self.depth_to_space(output)\n",
        "        output = self.conv2d(output)\n",
        "        return output\n",
        "\n",
        "# Spatial Downsampling with Spatial Mean Pooling\n",
        "class Downsample_Conv2d(nn.Module):\n",
        "    def __init__(self, in_dim, out_dim, kernel_size=(3, 3), stride=1, padding=1):\n",
        "        super().__init__()\n",
        "        self.space_to_depth = SpaceToDepth(2)\n",
        "        self.conv2d = nn.Conv2d(in_dim, out_dim, kernel_size,\n",
        "                              stride=stride, padding=padding)\n",
        "        \n",
        "    def forward(self, x):\n",
        "        output = self.space_to_depth(x)\n",
        "        b, c, h, w = output.size()\n",
        "        output = torch.sum(torch.reshape(output, (b, 4, c // 4, h, w)), dim=1) / 4.0\n",
        "        output = self.conv2d(output)\n",
        "        return output\n",
        "\n",
        "class ResnetBlockUp(nn.Module):\n",
        "    def __init__(self, in_dim, kernel_size=(3, 3), n_filters=256):\n",
        "        super().__init__()\n",
        "        self.bn1 = nn.BatchNorm2d(in_dim)\n",
        "        self.relu1 = nn.ReLU()\n",
        "        self.conv1 = nn.Conv2d(in_dim, n_filters, kernel_size, padding=1)\n",
        "        self.bn2 = nn.BatchNorm2d(n_filters)\n",
        "        self.relu2 = nn.ReLU()\n",
        "        self.residual = Upsample_Conv2d(n_filters, n_filters, kernel_size, padding=1)\n",
        "        self.shortcut = Upsample_Conv2d(in_dim, n_filters, kernel_size=(1, 1), padding=0)\n",
        "        \n",
        "    def forward(self, x):\n",
        "        _x = x\n",
        "        _x = self.bn1(_x)\n",
        "        _x = self.relu1(_x)\n",
        "        _x = self.conv1(_x)\n",
        "        _x = self.bn2(_x)\n",
        "        _x = self.relu2(_x)\n",
        "        residual = self.residual(_x)\n",
        "        shortcut = self.shortcut(x)\n",
        "        return residual + shortcut\n",
        "\n",
        "class ResnetBlockDown(nn.Module):\n",
        "    def __init__(self, in_dim, kernel_size=(3, 3), n_filters=256):\n",
        "        super().__init__()\n",
        "        self.relu1 = nn.ReLU()\n",
        "        self.conv1 = nn.Conv2d(in_dim, n_filters, kernel_size, padding=1)\n",
        "        self.relu2 = nn.ReLU()\n",
        "        self.residual = Downsample_Conv2d(n_filters, n_filters, kernel_size, padding=1)\n",
        "        self.shortcut = Downsample_Conv2d(in_dim, n_filters, kernel_size=(1, 1), padding=0)\n",
        "        \n",
        "    def forward(self, x):\n",
        "        _x = x\n",
        "        _x = self.relu1(_x)\n",
        "        _x = self.conv1(_x)\n",
        "        _x = self.relu2(_x)\n",
        "        residual = self.residual(_x)\n",
        "        shortcut = self.shortcut(x)\n",
        "        return residual + shortcut\n"
      ],
      "execution_count": null,
      "outputs": []
    },
    {
      "cell_type": "code",
      "metadata": {
        "id": "RMu-l46NUo08"
      },
      "source": [
        "from torch.autograd import Variable\n",
        "from torch.autograd import grad as torch_grad\n",
        "\n",
        "device = 'cuda' if torch.cuda.is_available() else 'cpu'\n",
        "def get_lr(optimizer):\n",
        "    for param_group in optimizer.param_groups:\n",
        "        return param_group['lr']\n",
        "\n",
        "class Solver(object):\n",
        "    def __init__(self, train_data, n_iterations=50000, batch_size=256, n_filters=128):\n",
        "        self.gp_lambda = 10\n",
        "        self.n_critic = 5\n",
        "        self.log_interval = 100\n",
        "        self.batch_size = batch_size\n",
        "        self.n_filters = n_filters\n",
        "        self.train_loader = self.create_loaders(train_data)\n",
        "        self.n_batches_in_epoch = len(self.train_loader)\n",
        "        self.n_epochs = self.n_critic * n_iterations // self.n_batches_in_epoch\n",
        "        self.curr_itr = 0\n",
        "        self.n_iterations = n_iterations\n",
        "\n",
        "    def build(self, part_name):\n",
        "        print('Building')\n",
        "        print(f'n_epochs = {self.n_epochs}')\n",
        "        print(f'n_batches_in_epoch = {self.n_batches_in_epoch}')\n",
        "        decay = lambda global_step : np.linspace(1, 0, 25000)[global_step]\n",
        "        self.g = Generator(n_filters=self.n_filters).cuda()\n",
        "        self.d = Discriminator(n_filters=self.n_filters).cuda()\n",
        "        self.g_optimizer = optim.Adam(self.g.parameters(), lr=2e-4, betas=(0, 0.9))\n",
        "        self.g_scheduler = optim.lr_scheduler.LambdaLR(self.g_optimizer, decay)\n",
        "        self.d_optimizer = optim.Adam(self.d.parameters(), lr=2e-4, betas=(0, 0.9))\n",
        "        self.d_scheduler = optim.lr_scheduler.LambdaLR(self.d_optimizer, decay)\n",
        "        self.part_name = part_name\n",
        "        print('Build OK')\n",
        "\n",
        "    def create_loaders(self, train_data):\n",
        "        print('Creating loader ...')\n",
        "        train_loader = data.DataLoader(train_data, batch_size=self.batch_size, shuffle=True)\n",
        "        print('Loader OK')\n",
        "        return train_loader\n",
        "\n",
        "    def gradient_penalty(self, real_data, fake_data):\n",
        "        # TODO\n",
        "        batch_size = real_data.size()[0]\n",
        "        epsilon = torch.rand(batch_size, 1, 1, 1).cuda()\n",
        "        epsilon = epsilon.expand_as(real_data)\n",
        "        interpolated = epsilon * real_data.data + (1 - epsilon) * fake_data.data\n",
        "        interpolated = Variable(interpolated, requires_grad=True).cuda()\n",
        "\n",
        "        prob_interpolated = self.d(interpolated)\n",
        "\n",
        "        gradients = torch_grad(outputs=prob_interpolated, inputs=interpolated,\n",
        "                               grad_outputs=torch.ones(prob_interpolated.size()).cuda(),\n",
        "                               create_graph=True, retain_graph=True)[0]\n",
        "\n",
        "        gradients = gradients.view(batch_size, -1)\n",
        "\n",
        "        gradients_norm = torch.sqrt(torch.sum(gradients ** 2, dim=1) + 1e-12)\n",
        "\n",
        "        return self.gp_lambda * ((gradients_norm - 1) ** 2).mean()\n",
        "\n",
        "    def train(self):\n",
        "        train_losses = []\n",
        "        self.save_model(f\"./drive/My Drive/GAN/{self.part_name}_{0}.pt\")\n",
        "        for epoch_i in tqdm_notebook(range(self.n_epochs), desc='Epoch', leave=False):\n",
        "            epoch_i += 1\n",
        "            \n",
        "            self.d.train()\n",
        "            self.g.train()\n",
        "            self.batch_loss_history = []\n",
        "\n",
        "            for batch_i, x in enumerate(tqdm_notebook(self.train_loader, desc='Batch', leave=False)):\n",
        "                batch_i += 1\n",
        "                self.curr_itr += 1\n",
        "                x = torch.tensor(x).float().to(device)\n",
        "                x = 2 * (x - 0.5)\n",
        "\n",
        "                # do a critic update\n",
        "                # TODO\n",
        "                self.d_optimizer.zero_grad()\n",
        "                fake = self.g.sample(x.size()[0])\n",
        "                gradient_penalty = self.gradient_penalty(x, fake)\n",
        "                d_loss = self.d(fake).mean() - self.d(x).mean() + gradient_penalty\n",
        "                d_loss.backward()\n",
        "                self.d_optimizer.step()\n",
        "                # generator update\n",
        "                if self.curr_itr % self.n_critic == 0:\n",
        "                    # TODO\n",
        "                    self.g_optimizer.zero_grad()\n",
        "                    fake = self.g.sample(x.size()[0])\n",
        "                    g_loss = -1 * self.d(fake).mean()\n",
        "                    g_loss.backward()\n",
        "                    self.g_optimizer.step()\n",
        "                    # step the learning rate\n",
        "                    self.g_scheduler.step()  \n",
        "                    self.d_scheduler.step()  \n",
        "\n",
        "                    self.batch_loss_history.append(g_loss.item())  # g_loss.data.cpu().numpy()\n",
        "\n",
        "            epoch_loss = np.mean(self.batch_loss_history)\n",
        "            print(f'Epoch: {epoch_i}; learning_rate: {get_lr(self.g_optimizer)}; loss: {epoch_loss}')\n",
        "            train_losses.append(epoch_loss)\n",
        "            self.save_model(f\"./drive/My Drive/GAN/{self.part_name}_{epoch_i}.pt\")\n",
        "            np.save(\"./drive/My Drive/GAN/q2_train_losses.npy\", np.array(train_losses))\n",
        "\n",
        "        train_losses = np.array(train_losses)\n",
        "        self.save_model(f\"{self.part_name}.pt\")\n",
        "        return train_losses\n",
        "\n",
        "    def sample_for_eval(self, n_samples):\n",
        "        # should return numpy images\n",
        "        self.g.eval()\n",
        "        fake = self.g.sample(n_samples).detach().cpu().numpy()\n",
        "        return fake\n",
        "\n",
        "    def save_model(self, filename):\n",
        "        split_path = list(osp.split(filename))\n",
        "        g_path = osp.join(*split_path[:-1], 'g_' + split_path[-1])\n",
        "        d_path = osp.join(*split_path[:-1], 'd_' + split_path[-1])\n",
        "        torch.save(self.g.state_dict(), g_path)\n",
        "        torch.save(self.d.state_dict(), d_path)\n",
        "\n",
        "    def load_model(self, filename):\n",
        "        split_path = list(osp.split(filename))\n",
        "        g_path = osp.join(*split_path[:-1], 'g_' + split_path[-1])\n",
        "        d_path = osp.join(*split_path[:-1], 'd_' + split_path[-1])\n",
        "        self.d.load_state_dict(torch.load(d_path))\n",
        "        self.g.load_state_dict(torch.load(g_path))"
      ],
      "execution_count": null,
      "outputs": []
    },
    {
      "cell_type": "code",
      "metadata": {
        "id": "5bQPfEKiVF_B"
      },
      "source": [
        "def q2(train_data, model_path=None, losses_path=None, n_iterations=2500): \n",
        "    \"\"\"\n",
        "    train_data: An (n_train, 3, 32, 32) numpy array of CIFAR-10 images with values in [0, 1]\n",
        "\n",
        "    Returns\n",
        "    - a (# of training iterations,) numpy array of WGAN critic train losses evaluated every minibatch\n",
        "    - a (1000, 32, 32, 3) numpy array of samples from your model in [0, 1]. \n",
        "        The first 100 will be displayed, and the rest will be used to calculate the Inception score. \n",
        "    \"\"\"\n",
        "    solver = Solver(train_data, n_iterations=n_iterations)\n",
        "    solver.build(\"wgan\")\n",
        "    model_path = './drive/My Drive/GAN/g_wgan_50.pt'\n",
        "    losses_path = './drive/My Drive/GAN/q2_train_losses.npy'\n",
        "    if model_path is not None and losses_path is not None:\n",
        "        solver.load_model(model_path)\n",
        "        losses = None\n",
        "        losses = np.load(losses_path)\n",
        "    else:\n",
        "        print('Begin model training')\n",
        "        losses = solver.train()\n",
        "    solver.g.eval()\n",
        "    solver.d.eval()\n",
        "    with torch.no_grad():\n",
        "        samples = solver.g.sample(1000)\n",
        "        samples = samples.permute(0, 2, 3, 1).detach().cpu().numpy() * 0.5 + 0.5\n",
        "\n",
        "    return losses, samples, solver"
      ],
      "execution_count": null,
      "outputs": []
    },
    {
      "cell_type": "markdown",
      "metadata": {
        "id": "UydRmPpLdEar"
      },
      "source": [
        "## Results"
      ]
    },
    {
      "cell_type": "code",
      "metadata": {
        "colab": {
          "base_uri": "https://localhost:8080/",
          "height": 500,
          "referenced_widgets": [
            "1b805b6f0bba407aa113ae7affa2ba86",
            "b646e9cc7b5845d790ec19368a28b5ad",
            "b7ddc65e4e6b42fa9fde9e80016342fa",
            "1608c5c6d74b44278946072cf76e7c3c",
            "2913f0475de342d1b253ebf86de22679",
            "beda3e7739604b84aa442df07ab48986",
            "df713d40c6f54e0c8e7b673b5f85df94",
            "2d5d524d52774d6c933688da708c093b"
          ]
        },
        "id": "32QNJPgJwu_i",
        "outputId": "8cf805f5-17bd-4be1-8459-f2c68bcc4f35"
      },
      "source": [
        "import torch.nn.functional as F\n",
        "import math\n",
        "import sys\n",
        "from matplotlib.pyplot import savefig\n",
        "\n",
        "def calculate_is(samples):\n",
        "    assert (type(samples[0]) == np.ndarray)\n",
        "    assert (len(samples[0].shape) == 3)\n",
        "\n",
        "    model = torchvision.models.googlenet(pretrained=True).to(device)\n",
        "\n",
        "    bs = 100\n",
        "    model.eval()\n",
        "    with torch.no_grad():\n",
        "        preds = []\n",
        "        n_batches = int(math.ceil(float(len(samples)) / float(bs)))\n",
        "        for i in range(n_batches):\n",
        "            sys.stdout.write(\".\")\n",
        "            sys.stdout.flush()\n",
        "            inp = torch.FloatTensor(samples[(i * bs):min((i + 1) * bs, len(samples))]).to(device)\n",
        "            pred = F.softmax(model(inp), dim=1).detach().cpu().numpy()\n",
        "            preds.append(pred)\n",
        "    preds = np.concatenate(preds, 0)\n",
        "    kl = preds * (np.log(preds) - np.log(np.expand_dims(np.mean(preds, 0), 0)))\n",
        "    kl = np.mean(np.sum(kl, 1))\n",
        "    return np.exp(kl)\n",
        "\n",
        "def q2_save_results(fn):\n",
        "    print('Ready to read data ...')\n",
        "    train_data = load_q2_data()\n",
        "    train_data = train_data.data.transpose((0, 3, 1, 2)) / 255.0\n",
        "    print('Data OK')\n",
        "    train_losses, samples, solver = fn(train_data)\n",
        "\n",
        "    print(\"Inception score:\", calculate_is(samples.transpose([0, 3, 1, 2])))\n",
        "    show_samples(samples[:100] * 255.0, fname=None, title=f'CIFAR-10 generated samples')\n",
        "    return samples, solver\n",
        "\n",
        "samples, solver = q2_save_results(q2)"
      ],
      "execution_count": null,
      "outputs": [
        {
          "output_type": "stream",
          "text": [
            "Ready to read data ...\n",
            "Files already downloaded and verified\n",
            "Data OK\n",
            "Creating loader ...\n",
            "Loader OK\n",
            "Building\n",
            "n_epochs = 63\n",
            "n_batches_in_epoch = 196\n",
            "Build OK\n"
          ],
          "name": "stdout"
        },
        {
          "output_type": "stream",
          "text": [
            "Downloading: \"https://download.pytorch.org/models/googlenet-1378be20.pth\" to /root/.cache/torch/hub/checkpoints/googlenet-1378be20.pth\n"
          ],
          "name": "stderr"
        },
        {
          "output_type": "display_data",
          "data": {
            "application/vnd.jupyter.widget-view+json": {
              "model_id": "1b805b6f0bba407aa113ae7affa2ba86",
              "version_minor": 0,
              "version_major": 2
            },
            "text/plain": [
              "HBox(children=(FloatProgress(value=0.0, max=52147035.0), HTML(value='')))"
            ]
          },
          "metadata": {
            "tags": []
          }
        },
        {
          "output_type": "stream",
          "text": [
            "\n",
            "..........Inception score: 3.95549\n"
          ],
          "name": "stdout"
        },
        {
          "output_type": "display_data",
          "data": {
            "image/png": "[encoded data removed]",
            "text/plain": [
              "<Figure size 432x288 with 1 Axes>"
            ]
          },
          "metadata": {
            "tags": [],
            "needs_background": "light"
          }
        }
      ]
    },
    {
      "cell_type": "markdown",
      "metadata": {
        "id": "j90EZiaJtqPM"
      },
      "source": [
        "# Question 3: Representation Learning with BiGAN on MNIST\n",
        "\n",
        "In this part, we train a BiGAN on the MNIST dataset. Execute the cell below to visualize the dataset."
      ]
    },
    {
      "cell_type": "code",
      "metadata": {
        "colab": {
          "base_uri": "https://localhost:8080/",
          "height": 783,
          "referenced_widgets": [
            "3c82395e57044ecd97bef5d4adc26141",
            "864edfeb6bfc4d118251c2b5a0804125",
            "73a829f34f93451fac332f17319bca07",
            "bb8e54299382488f800fdf57ffe07bfe",
            "b198a20e09bc426c92285ef74c356522",
            "6446a9dfd4ef4986b9d8b0fa9a1cc004",
            "54b4ff2ba33c43b8a1e8da896d0ab056",
            "05055d30dad54c75a6c585bc21b09a2f",
            "d26c0e6dd7b9412e8100045246d383b6",
            "ecd749cac5944081b6a82a2043ac27ab",
            "9ac9e60b9094434db15022059e6cf78b",
            "4fd6eb012bab4bf695ffe4ddbb0c89b3",
            "b290751426bd47eb8495c09225520f94",
            "1973bdaee6724902b5bf7b438c1bd91e",
            "4dfde729031345498b9b898c2d20df8f",
            "811d630668b14f088d985b3ca018279a",
            "365b2ae6ba004c9c8dab39f093575953",
            "c9782a718a344d739f35935f60087971",
            "768aa8963da443fdbd01d67493b741e5",
            "196d0fcfe48745348a525f402e658567",
            "820632c9ed4947a0ba0b7a7c82535610",
            "33640f4d8ac64080a97ed497f6f32605",
            "3f632cb2b58741009c48669e8c8906c7",
            "5262dc19d38742a195f4a62fe9bdfe78",
            "b7bd17283cd54243b2b11a21cd4a20a6",
            "e50bda91311a4aac95444a20c6bf7e9c",
            "6265857d120648168316a824a322292f",
            "614850b561c3483aa69e2046d7fbc253",
            "68bdc8e1d7f24b23a678514e469a7cf8",
            "46df43acf8154a95bd0eb6b7bcbba39e",
            "274a8df75fa94e709617d04c0d748562",
            "55ab9d33a67f426b82ff3212bb9a49f6"
          ]
        },
        "id": "Ltb-rJSnt_3D",
        "outputId": "224255cc-a439-4583-e886-989383b3e4e6"
      },
      "source": [
        "from torchvision import transforms\n",
        "\n",
        "def load_q3_data():\n",
        "    transform = transforms.Compose([\n",
        "        transforms.ToTensor(),\n",
        "        transforms.Normalize((0.5,), (0.5,))\n",
        "    ])\n",
        "    train_data = torchvision.datasets.MNIST(root=\"./data\", train=True, download=True, transform=transform)\n",
        "    test_data = torchvision.datasets.MNIST(root=\"./data\", train=False, download=True, transform=transform)\n",
        "    return train_data, test_data\n",
        "\n",
        "def visualize_q3_data():\n",
        "    train_data, _ = load_q3_data()\n",
        "    imgs = train_data.data[:100]\n",
        "    show_samples(imgs.reshape([100, 28, 28, 1]) * 255.0, title=f'MNIST samples')\n",
        "\n",
        "visualize_q3_data()"
      ],
      "execution_count": null,
      "outputs": [
        {
          "output_type": "stream",
          "text": [
            "Downloading http://yann.lecun.com/exdb/mnist/train-images-idx3-ubyte.gz\n",
            "Downloading http://yann.lecun.com/exdb/mnist/train-images-idx3-ubyte.gz to ./data/MNIST/raw/train-images-idx3-ubyte.gz\n"
          ],
          "name": "stdout"
        },
        {
          "output_type": "display_data",
          "data": {
            "application/vnd.jupyter.widget-view+json": {
              "model_id": "3c82395e57044ecd97bef5d4adc26141",
              "version_minor": 0,
              "version_major": 2
            },
            "text/plain": [
              "HBox(children=(FloatProgress(value=0.0, max=9912422.0), HTML(value='')))"
            ]
          },
          "metadata": {
            "tags": []
          }
        },
        {
          "output_type": "stream",
          "text": [
            "\n",
            "Extracting ./data/MNIST/raw/train-images-idx3-ubyte.gz to ./data/MNIST/raw\n",
            "\n",
            "Downloading http://yann.lecun.com/exdb/mnist/train-labels-idx1-ubyte.gz\n",
            "Downloading http://yann.lecun.com/exdb/mnist/train-labels-idx1-ubyte.gz to ./data/MNIST/raw/train-labels-idx1-ubyte.gz\n"
          ],
          "name": "stdout"
        },
        {
          "output_type": "display_data",
          "data": {
            "application/vnd.jupyter.widget-view+json": {
              "model_id": "d26c0e6dd7b9412e8100045246d383b6",
              "version_minor": 0,
              "version_major": 2
            },
            "text/plain": [
              "HBox(children=(FloatProgress(value=0.0, max=28881.0), HTML(value='')))"
            ]
          },
          "metadata": {
            "tags": []
          }
        },
        {
          "output_type": "stream",
          "text": [
            "\n",
            "Extracting ./data/MNIST/raw/train-labels-idx1-ubyte.gz to ./data/MNIST/raw\n",
            "\n",
            "Downloading http://yann.lecun.com/exdb/mnist/t10k-images-idx3-ubyte.gz\n",
            "Downloading http://yann.lecun.com/exdb/mnist/t10k-images-idx3-ubyte.gz to ./data/MNIST/raw/t10k-images-idx3-ubyte.gz\n"
          ],
          "name": "stdout"
        },
        {
          "output_type": "display_data",
          "data": {
            "application/vnd.jupyter.widget-view+json": {
              "model_id": "365b2ae6ba004c9c8dab39f093575953",
              "version_minor": 0,
              "version_major": 2
            },
            "text/plain": [
              "HBox(children=(FloatProgress(value=0.0, max=1648877.0), HTML(value='')))"
            ]
          },
          "metadata": {
            "tags": []
          }
        },
        {
          "output_type": "stream",
          "text": [
            "\n",
            "Extracting ./data/MNIST/raw/t10k-images-idx3-ubyte.gz to ./data/MNIST/raw\n",
            "\n",
            "Downloading http://yann.lecun.com/exdb/mnist/t10k-labels-idx1-ubyte.gz\n",
            "Downloading http://yann.lecun.com/exdb/mnist/t10k-labels-idx1-ubyte.gz to ./data/MNIST/raw/t10k-labels-idx1-ubyte.gz\n"
          ],
          "name": "stdout"
        },
        {
          "output_type": "display_data",
          "data": {
            "application/vnd.jupyter.widget-view+json": {
              "model_id": "b7bd17283cd54243b2b11a21cd4a20a6",
              "version_minor": 0,
              "version_major": 2
            },
            "text/plain": [
              "HBox(children=(FloatProgress(value=0.0, max=4542.0), HTML(value='')))"
            ]
          },
          "metadata": {
            "tags": []
          }
        },
        {
          "output_type": "stream",
          "text": [
            "\n",
            "Extracting ./data/MNIST/raw/t10k-labels-idx1-ubyte.gz to ./data/MNIST/raw\n",
            "\n",
            "Processing...\n"
          ],
          "name": "stdout"
        },
        {
          "output_type": "stream",
          "text": [
            "Clipping input data to the valid range for imshow with RGB data ([0..1] for floats or [0..255] for integers).\n"
          ],
          "name": "stderr"
        },
        {
          "output_type": "stream",
          "text": [
            "Done!\n"
          ],
          "name": "stdout"
        },
        {
          "output_type": "display_data",
          "data": {
            "image/png": "[encoded data removed]",
            "text/plain": [
              "<Figure size 432x288 with 1 Axes>"
            ]
          },
          "metadata": {
            "tags": [],
            "needs_background": "light"
          }
        }
      ]
    },
    {
      "cell_type": "markdown",
      "metadata": {
        "id": "D9LvBaKetyXN"
      },
      "source": [
        "In BiGAN, in addition to training a generator $G$ and a discriminator $D$, we train an encoder $E$ that maps from real images $x$ to latent codes $z$. The discriminator now must learn to jointly identify fake $z$, fake $x$, and paired $(x, z)$ that don't belong together. In the original [BiGAN paper](https://arxiv.org/pdf/1605.09782.pdf), they prove that the optimal $E$ learns to invert the generative mapping $G: z \\rightarrow x$. Our overall minimax term is now\n",
        "$$V(D, E, G) = \\mathbb{E}_{x \\sim p_x}[\\mathbb{E}_{z \\sim p_E(\\cdot | x)}[\\log D(x, z)]] + \\mathbb{E}_{z \\sim p_z}[\\mathbb{E}_{x \\sim p_G(\\cdot | z)}[\\log (1 - D(x, z))]]$$\n",
        "\n",
        "**Architecture**\n",
        "\n",
        "We will closely follow the MNIST architecture outlined in the original BiGAN paper, Appendix C.1, with one modification: instead of having $z \\sim \\text{Uniform}[-1, 1]$, we use $z \\sim \\mathcal N (0, 1)$ with $z \\in \\mathbb R ^{50}$. \n",
        "\n",
        "**Hyperparameters**\n",
        "\n",
        "We make several modifications to what is listed in the BiGAN paper. We apply $l_2$ weight decay to all weights and decay the step size $\\alpha$ linearly to 0 over the course of training. Weights are initialized via the default PyTorch manner. We recommend training for at least 100 epochs -- this part is much less computationally expensive than previous homeworks. \n",
        "\n",
        "**Reconstructions**\n",
        "\n",
        "You should take the first 20 images from the MNIST training set and then display the reconstructions $x_{recon} = G(E(x))$. It's ok if your reconstructions are somewhat lossy; ours are too. We will provide a utility to show these. \n",
        "\n",
        "**Testing the representation**\n",
        "\n",
        "We want to see how good a linear classifier $L$ we can learn such that \n",
        "$$y \\approx L(E(x))$$\n",
        "where $y$ is the appropriate label. Fix $E$ and learn a weight matrix $W$ such that your linear classifier is composed of passing $x$ through $E$, then multiplying by $W$, then applying a softmax nonlinearity. Train this via gradient descent with the cross-entropy loss. \n",
        "\n",
        "As a baseline, randomly initialize another network $E_{random}$ with the same architecture, fix its weights, and train a linear classifier on top, as done in the previous part.\n",
        "\n",
        "\n",
        "**You will provide the following deliverables**\n",
        "1. Plot of the minimax loss term. \n",
        "2. 100 samples from the BiGAN\n",
        "3. A comparison of MNIST images $x$ with their reconstructions $G(E(x))$.\n",
        "4. Test loss plot for the linear classifier trained on the pretrained encoder, and a randomly initialized encoder. \n",
        "5. Final test losses for the two linear classifiers. \n",
        "\n",
        "**Feel free to train the networks separately, save the necessary information, and simply use our function to generate the appropriate figures.**\n"
      ]
    },
    {
      "cell_type": "markdown",
      "metadata": {
        "id": "RZTjJOOodhwq"
      },
      "source": [
        "## Solution"
      ]
    },
    {
      "cell_type": "code",
      "metadata": {
        "id": "HJJ-c3IdZ27W"
      },
      "source": [
        "class Generator(nn.Module):\n",
        "    def __init__(self, g_input_dim, g_output_dim):\n",
        "        super(Generator, self).__init__()\n",
        "        self.fc = nn.Sequential(\n",
        "            # TODO\n",
        "        )\n",
        "\n",
        "    def forward(self, x):\n",
        "        return self.fc(x).reshape(x.shape[0], 1, 28, 28)\n",
        "\n",
        "class Discriminator(nn.Module):\n",
        "    def __init__(self, z_dim, x_dim):\n",
        "        super(Discriminator, self).__init__()\n",
        "        self.fc = nn.Sequential(\n",
        "            # TODO\n",
        "        )\n",
        "\n",
        "    def forward(self, z, x):\n",
        "        x = torch.cat((z, x), dim=1)\n",
        "        return self.fc(x)\n",
        "\n",
        "class Encoder(nn.Module):\n",
        "    def __init__(self, input_dim, output_dim):\n",
        "        super(Encoder, self).__init__()\n",
        "        self.fc = nn.Sequential(\n",
        "            # TODO\n",
        "        )\n",
        "\n",
        "    def forward(self, x):\n",
        "        x = x.view(x.shape[0], -1)\n",
        "        return self.fc(x)"
      ],
      "execution_count": null,
      "outputs": []
    },
    {
      "cell_type": "code",
      "metadata": {
        "colab": {
          "base_uri": "https://localhost:8080/",
          "height": 129
        },
        "id": "u1aBihquZ4DY",
        "outputId": "9c483260-39ef-4719-aae9-cdf66af5d0aa"
      },
      "source": [
        "from torchvision.utils import save_image\n",
        "\n",
        "class Solver(object):\n",
        "    def __init__(self, train_data, test_data, n_epochs=100, batch_size=128, latent_dim=50):\n",
        "        self.log_interval = 100\n",
        "        self.batch_size = batch_size\n",
        "        self.train_loader, self.test_loader = self.create_loaders(train_data, test_data)\n",
        "        self.n_batches_in_epoch = len(self.train_loader)\n",
        "        self.n_epochs = n_epochs\n",
        "        self.curr_itr = 0\n",
        "        self.latent_dim = latent_dim\n",
        "\n",
        "    def build(self):\n",
        "        # BiGAN \n",
        "        self.d = Discriminator(self.latent_dim, 784).to(device)\n",
        "        self.e = Encoder(784, self.latent_dim).to(device) \n",
        "        self.g = Generator(self.latent_dim, 784).to(device)\n",
        "        self.g_optimizer = # TODO\n",
        "        self.g_scheduler = # TODO\n",
        "        self.d_optimizer = # TODO\n",
        "        self.d_scheduler = # TODO\n",
        "        \n",
        "        # linear classifier \n",
        "        self.linear = nn.Linear(self.latent_dim, 10).to(device)\n",
        "        self.linear_optimizer = torch.optim.Adam(self.linear.parameters(), lr=1e-3)\n",
        "\n",
        "    def reset_linear(self):\n",
        "        self.linear = nn.Linear(self.latent_dim, 10).to(device)\n",
        "        self.linear_optimizer = torch.optim.Adam(self.linear.parameters(), lr=1e-3)\n",
        "\n",
        "    def create_loaders(self, train_data, test_data):\n",
        "        train_loader = torch.utils.data.DataLoader(train_data, batch_size=self.batch_size, shuffle=True)\n",
        "        test_loader = torch.utils.data.DataLoader(test_data, batch_size=self.batch_size, shuffle=False)\n",
        "\n",
        "        return train_loader, test_loader\n",
        "\n",
        "    def get_discriminator_loss(self, x):\n",
        "        z_fake = torch.normal(torch.zeros(x.shape[0], self.latent_dim), torch.ones(x.shape[0], self.latent_dim)).to(device)\n",
        "        z_real = self.e(x).reshape(x.shape[0], self.latent_dim)\n",
        "        x_fake = self.g(z_fake).reshape(x.shape[0], -1)\n",
        "        x_real = x.view(x.shape[0], -1)\n",
        "\n",
        "        d_loss = - 0.5 * (self.d(z_real, x_real)).log().mean() - 0.5 * (1 - self.d(z_fake, x_fake)).log().mean()\n",
        "        return d_loss\n",
        "\n",
        "\n",
        "    def train_bigan(self):\n",
        "        train_losses = []\n",
        "        val_losses = []\n",
        "        for epoch_i in tqdm_notebook(range(self.n_epochs), desc='Epoch'):\n",
        "            epoch_i += 1\n",
        "\n",
        "            self.d.train()\n",
        "            self.g.train()\n",
        "            self.e.train()\n",
        "            self.batch_loss_history = []\n",
        "\n",
        "            for batch_i, (x, y) in enumerate(tqdm_notebook(self.train_loader, desc='Batch', leave=False)):\n",
        "                batch_i += 1\n",
        "                self.curr_itr += 1\n",
        "                x = x.to(device).float()\n",
        "\n",
        "                # discriminator update\n",
        "                # TODO\n",
        "\n",
        "                # generator and encoder update\n",
        "                # TODO\n",
        "\n",
        "                self.batch_loss_history.append(d_loss.item())\n",
        "\n",
        "            # step the learning rate\n",
        "            self.g_scheduler.step()\n",
        "            self.d_scheduler.step()\n",
        "            epoch_loss = np.mean(self.batch_loss_history)\n",
        "            train_losses.append(epoch_loss)\n",
        "            self.save_samples(100, f'epoch{epoch_i}_samples.png')\n",
        "\n",
        "        np.save(\"train_losses.npy\", np.array(train_losses))\n",
        "        self.save_models('weights.pt')\n",
        "        train_losses = np.array(train_losses)\n",
        "\n",
        "        return train_losses\n",
        "\n",
        "    def train_linear_classifier(self):  # (everything already implemented)\n",
        "        train_losses = []\n",
        "        val_accs = []\n",
        "        for epoch_i in tqdm_notebook(range(self.n_epochs // 4), desc='Epoch'):\n",
        "            epoch_i += 1\n",
        "\n",
        "            self.e.eval()\n",
        "            self.linear.train()\n",
        "            self.batch_loss_history = []\n",
        "\n",
        "            for batch_i, (x, y) in enumerate(tqdm_notebook(self.train_loader, desc='Batch', leave=False)):\n",
        "                batch_i += 1\n",
        "                self.curr_itr += 1\n",
        "                x = x.to(device).float() # * 2 - 1\n",
        "                y = y.to(device)\n",
        "\n",
        "                # calculate loss, take gradient step\n",
        "                self.linear_optimizer.zero_grad()\n",
        "                z = self.e(x).detach()\n",
        "                pred = self.linear(z)\n",
        "                linear_loss = F.cross_entropy(pred, y)\n",
        "                linear_loss.backward()\n",
        "                self.linear_optimizer.step()\n",
        "\n",
        "                self.batch_loss_history.append(linear_loss.item())\n",
        "\n",
        "            val_acc = self.val_acc()\n",
        "            val_accs.append(val_acc)\n",
        "            epoch_loss = np.mean(self.batch_loss_history)\n",
        "            train_losses.append(epoch_loss)\n",
        "\n",
        "        np.save(\"train_losses.npy\", np.array(train_losses))\n",
        "        self.save_models('weights.pt')\n",
        "        train_losses = np.array(train_losses)\n",
        "        val_accs = np.array(val_accs)\n",
        "\n",
        "        return train_losses, val_accs\n",
        "\n",
        "    def sample(self, n):\n",
        "        # TODO\n",
        "\n",
        "    def save_samples(self, n, filename):\n",
        "        self.g.eval()\n",
        "        with torch.no_grad():\n",
        "            z = (torch.rand(n, self.latent_dim).to(device) - 0.5) * 2\n",
        "            samples = self.g(z).reshape(-1, 1, 28, 28) * 0.5 + 1\n",
        "            save_image(samples, filename, nrow=10, normalize=True)\n",
        "\n",
        "    def val_acc(self):\n",
        "        self.e.eval()\n",
        "        self.linear.eval()\n",
        "\n",
        "        val_acc_total = 0\n",
        "        val_items = 0\n",
        "        with torch.no_grad():\n",
        "            for (inputs, labels) in self.test_loader:\n",
        "                inputs = inputs.to(device).float()\n",
        "                z = self.e(inputs)\n",
        "                labels = labels.to(device)\n",
        "                logits = self.linear(z)\n",
        "                predictions = torch.argmax(logits, dim=1)\n",
        "                num_correct = torch.sum(predictions == labels).float()\n",
        "                val_acc_total += num_correct\n",
        "                val_items += inputs.shape[0]\n",
        "\n",
        "        return (val_acc_total / val_items).detach().cpu().numpy()\n",
        "\n",
        "    def save_models(self, filename):\n",
        "        torch.save(self.g.state_dict(), \"g_\" + filename)\n",
        "        torch.save(self.d.state_dict(), \"d_\" + filename)\n",
        "        torch.save(self.e.state_dict(), \"e_\" + filename)\n",
        "\n",
        "    def load_models(self, filename):\n",
        "        self.g.load_state_dict(torch.load(\"g_\" + filename))\n",
        "        self.d.load_state_dict(torch.load(\"d_\" + filename))\n",
        "        self.e.load_state_dict(torch.load(\"e_\" + filename))"
      ],
      "execution_count": null,
      "outputs": [
        {
          "output_type": "error",
          "ename": "SyntaxError",
          "evalue": "ignored",
          "traceback": [
            "\u001b[0;36m  File \u001b[0;32m\"<ipython-input-22-94ba331b6d7c>\"\u001b[0;36m, line \u001b[0;32m18\u001b[0m\n\u001b[0;31m    self.g_optimizer = # TODO\u001b[0m\n\u001b[0m                             ^\u001b[0m\n\u001b[0;31mSyntaxError\u001b[0m\u001b[0;31m:\u001b[0m invalid syntax\n"
          ]
        }
      ]
    },
    {
      "cell_type": "code",
      "metadata": {
        "id": "TA7agDH5aBxH"
      },
      "source": [
        "def q3(train_data, test_data):\n",
        "    \"\"\"\n",
        "    train_data: A PyTorch dataset that contains (n_train, 28, 28) MNIST digits, normalized to [-1, 1]\n",
        "                Documentation can be found at torchvision.datasets.MNIST\n",
        "    test_data: A PyTorch dataset that contains (n_test, 28, 28) MNIST digits, normalized to [-1, 1]\n",
        "                Documentation can be found at torchvision.datasets.MNIST\n",
        "\n",
        "    Returns\n",
        "    - a (# of training iterations,) numpy array of BiGAN minimax losses evaluated every minibatch\n",
        "    - a (100, 28, 28, 1) numpy array of BiGAN samples that lie in [0, 1]\n",
        "    - a (40, 28, 28, 1) numpy array of 20 real image / reconstruction pairs\n",
        "    - a (# of training epochs,) numpy array of supervised cross-entropy losses on the BiGAN encoder evaluated every epoch \n",
        "    - a (# of training epochs,) numpy array of supervised cross-entropy losses on a random encoder evaluated every epoch \n",
        "    \"\"\"\n",
        "\n",
        "    solver = Solver(train_data, test_data, n_epochs=100)\n",
        "    solver.build()\n",
        "\n",
        "    # get random encoder accuracy\n",
        "    print(\"Training linear classifier on random encoder\")\n",
        "    train_losses, val_accs = solver.train_linear_classifier()\n",
        "\n",
        "    # train bigan\n",
        "    print(\"Training BiGAN\")\n",
        "    bigan_losses = solver.train_bigan()\n",
        "    samples = # TODO\n",
        "    train_images = # TODO\n",
        "    recons = # TODO reconstructions(train_images)\n",
        "\n",
        "    # see benefit of unsupervised learning\n",
        "    solver.reset_linear()\n",
        "    print(\"Training linear classifier on BiGAN encoder\")\n",
        "    bigan_train_losses, bigan_val_accs = solver.train_linear_classifier()\n",
        "\n",
        "    print(f\"Final BiGAN test linear accuracy: {bigan_val_accs[-1]}\")\n",
        "    print(f\"Final random encoder test linear accuracy: {val_accs[-1]}\")\n",
        "\n",
        "    return bigan_losses, samples, np.concatenate([train_images, recons], axis=0).transpose(0, 2, 3, 1), bigan_train_losses, train_losses"
      ],
      "execution_count": null,
      "outputs": []
    },
    {
      "cell_type": "markdown",
      "metadata": {
        "id": "HhXu2KrAdj0T"
      },
      "source": [
        "## Results"
      ]
    },
    {
      "cell_type": "code",
      "metadata": {
        "id": "5FGKlCLQdkpG"
      },
      "source": [
        "def plot_q3_supervised(pretrained_losses, random_losses, title, fname):\n",
        "    plt.figure()\n",
        "    xs = np.arange(len(pretrained_losses))\n",
        "    plt.plot(xs, pretrained_losses, label='bigan')\n",
        "    xs = np.arange(len(random_losses))\n",
        "    plt.plot(xs, random_losses, label='random init')\n",
        "    plt.legend()\n",
        "    plt.title(title)\n",
        "    # savefig(fname)\n",
        "\n",
        "def q3_save_results(fn):\n",
        "    train_data, test_data = load_q3_data()\n",
        "    gan_losses, samples, reconstructions, pretrained_losses, random_losses = fn(train_data, test_data)\n",
        "\n",
        "    plot_gan_training(gan_losses, 'Q3 Losses', 'results/q3_gan_losses.png')\n",
        "    plot_q3_supervised(pretrained_losses, random_losses, 'Linear classification losses', 'results/q3_supervised_losses.png')\n",
        "    show_samples(samples * 255.0, fname=None, title='BiGAN generated samples')\n",
        "    show_samples(reconstructions * 255.0, nrow=20, fname=None, title=f'BiGAN reconstructions')\n",
        "    print('BiGAN final linear classification loss:', pretrained_losses[-1])\n",
        "    print('Random encoder linear classification loss:', random_losses[-1])\n",
        "\n",
        "q3_save_results(q3)"
      ],
      "execution_count": null,
      "outputs": []
    },
    {
      "cell_type": "markdown",
      "metadata": {
        "id": "92f0jUFadqml"
      },
      "source": [
        "# Question 4: CycleGAN\n",
        "In this question, you'll train a CycleGAN model to learn to translate between two different image domains, without any paired data. Execute the following cell to visualize our two datasets: MNIST and Colored MNIST. "
      ]
    },
    {
      "cell_type": "code",
      "metadata": {
        "id": "Zul9AjeZwW4q"
      },
      "source": [
        "!wget https://upload.wikimedia.org/wikipedia/en/7/7d/Lenna_%28test_image%29.png -O lena.jpg"
      ],
      "execution_count": null,
      "outputs": []
    },
    {
      "cell_type": "code",
      "metadata": {
        "id": "Y3qFm_JfObPj"
      },
      "source": [
        "import PIL\n",
        "import cv2\n",
        "import scipy\n",
        "\n",
        "def get_colored_mnist(data):\n",
        "    # from https://www.wouterbulten.nl/blog/tech/getting-started-with-gans-2-colorful-mnist/\n",
        "    # Read Lena image\n",
        "    lena = PIL.Image.open('./lena.jpg')\n",
        "\n",
        "    # Resize\n",
        "    batch_resized = np.asarray([scipy.ndimage.zoom(image, (2.3, 2.3, 1), order=1) for image in data])\n",
        "\n",
        "    # Extend to RGB\n",
        "    batch_rgb = np.concatenate([batch_resized, batch_resized, batch_resized], axis=3)\n",
        "\n",
        "    # Make binary\n",
        "    batch_binary = (batch_rgb > 0.5)\n",
        "\n",
        "    batch = np.zeros((data.shape[0], 28, 28, 3))\n",
        "\n",
        "    for i in range(data.shape[0]):\n",
        "        # Take a random crop of the Lena image (background)\n",
        "        x_c = np.random.randint(0, lena.size[0] - 64)\n",
        "        y_c = np.random.randint(0, lena.size[1] - 64)\n",
        "        image = lena.crop((x_c, y_c, x_c + 64, y_c + 64))\n",
        "        image = np.asarray(image) / 255.0\n",
        "\n",
        "        # Invert the colors at the location of the number\n",
        "        image[batch_binary[i]] = 1 - image[batch_binary[i]]\n",
        "\n",
        "        batch[i] = cv2.resize(image, (0, 0), fx=28 / 64, fy=28 / 64, interpolation=cv2.INTER_AREA)\n",
        "    return batch.transpose(0, 3, 1, 2)\n",
        "\n",
        "def load_q4_data():\n",
        "    train, _ = load_q3_data()\n",
        "    mnist = np.array(train.data.reshape(-1, 28, 28, 1) / 255.0)\n",
        "    colored_mnist = get_colored_mnist(mnist)\n",
        "    return mnist.transpose(0, 3, 1, 2), colored_mnist\n",
        "\n",
        "def visualize_cyclegan_datasets():\n",
        "    mnist, colored_mnist = load_q4_data()\n",
        "    mnist, colored_mnist = mnist[:100], colored_mnist[:100]\n",
        "    show_samples(mnist.reshape([100, 28, 28, 1]) * 255.0, title=f'MNIST samples')\n",
        "    show_samples(colored_mnist.transpose([0, 2, 3, 1]) * 255.0, title=f'Colored MNIST samples')\n",
        "\n",
        "visualize_cyclegan_datasets()"
      ],
      "execution_count": null,
      "outputs": []
    },
    {
      "cell_type": "markdown",
      "metadata": {
        "id": "0Za8w7ddOdh7"
      },
      "source": [
        "In [CycleGAN](https://arxiv.org/pdf/1703.10593.pdf), the goal is to learn functions $F$ and $G$ that can transform images from $X \\rightarrow Y$ and vice-versa. This is an unconstrained problem, so we additionally enforce the *cycle-consistency* property, where we want \n",
        "$$x \\approx G(F(x))$$\n",
        "and  \n",
        "$$y \\approx F(G(x))$$\n",
        "This loss function encourages $F$ and $G$ to approximately invert each other. In addition to this cycle-consistency loss, we also have a standard GAN loss such that $F(x)$ and $G(y)$ look like real images from the other domain. \n",
        "\n",
        "Since this is a bonus question, we won't do much hand-holding. We recommend reading through the original paper to get a sense of what architectures and hyperparameters are useful. Note that our datasets are fairly simple, so you won't need excessively large models. \n",
        "\n",
        "**You will report the following deliverables**\n",
        "1. A set of images showing real MNIST digits, transformations of those images into Colored MNIST digits, and reconstructions back into the greyscale domain. \n",
        "2. A set of images showing real Colored MNIST digits, transformations of those images, and reconstructions. "
      ]
    },
    {
      "cell_type": "markdown",
      "metadata": {
        "id": "8adRfm9vPnen"
      },
      "source": [
        "## Solution"
      ]
    },
    {
      "cell_type": "code",
      "metadata": {
        "id": "B99F5FjbPqtl"
      },
      "source": [
        "def q4(mnist_data, cmnist_data):\n",
        "    \"\"\"\n",
        "    mnist_data: An (60000, 1, 28, 28) numpy array of black and white images with values in [0, 1]\n",
        "    cmnist_data: An (60000, 3, 28, 28) numpy array of colored images with values in [0, 1]\n",
        "\n",
        "    Returns\n",
        "    - a (20, 28, 28, 1) numpy array of real MNIST digits, in [0, 1]\n",
        "    - a (20, 28, 28, 3) numpy array of translated Colored MNIST digits, in [0, 1]\n",
        "    - a (20, 28, 28, 1) numpy array of reconstructed MNIST digits, in [0, 1]\n",
        "\n",
        "    - a (20, 28, 28, 3) numpy array of real Colored MNIST digits, in [0, 1]\n",
        "    - a (20, 28, 28, 1) numpy array of translated MNIST digits, in [0, 1]\n",
        "    - a (20, 28, 28, 3) numpy array of reconstructed Colored MNIST digits, in [0, 1]\n",
        "    \"\"\"\n",
        "    \"\"\" YOUR CODE HERE \"\"\""
      ],
      "execution_count": null,
      "outputs": []
    },
    {
      "cell_type": "markdown",
      "metadata": {
        "id": "NIO0hzZ8PpPr"
      },
      "source": [
        "## Results"
      ]
    },
    {
      "cell_type": "code",
      "metadata": {
        "id": "-hlvbDvUOxp6"
      },
      "source": [
        "def q4_save_results(fn):\n",
        "    mnist, cmnist = load_q4_data()\n",
        "\n",
        "    m1, c1, m2, c2, m3, c3 = fn(mnist, cmnist)\n",
        "    m1, m2, m3 = m1.repeat(3, axis=3), m2.repeat(3, axis=3), m3.repeat(3, axis=3)\n",
        "    mnist_reconstructions = np.concatenate([m1, c1, m2], axis=0)\n",
        "    colored_mnist_reconstructions = np.concatenate([c2, m3, c3], axis=0)\n",
        "\n",
        "    show_samples(mnist_reconstructions * 255.0, nrow=20,\n",
        "                 fname=None,\n",
        "                 title=f'Source domain: MNIST')\n",
        "    show_samples(colored_mnist_reconstructions * 255.0, nrow=20,\n",
        "                 fname=None,\n",
        "                 title=f'Source domain: Colored MNIST')\n",
        "    pass\n",
        "\n",
        "q4_save_results(q4)"
      ],
      "execution_count": null,
      "outputs": []
    }
  ]
}
